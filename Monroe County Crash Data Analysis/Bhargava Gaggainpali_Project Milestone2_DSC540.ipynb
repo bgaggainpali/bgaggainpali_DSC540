{
 "cells": [
  {
   "cell_type": "markdown",
   "metadata": {},
   "source": [
    "# Project Milestone2_DSC540"
   ]
  },
  {
   "cell_type": "code",
   "execution_count": 1,
   "metadata": {},
   "outputs": [],
   "source": [
    "#import required libraries\n",
    "import pandas as pd\n",
    "import numpy as np\n",
    "import matplotlib.pyplot as plt\n",
    "\n",
    "%matplotlib inline\n",
    "import seaborn as sns\n",
    "sns.set_style(\"darkgrid\")"
   ]
  },
  {
   "cell_type": "code",
   "execution_count": 2,
   "metadata": {},
   "outputs": [
    {
     "data": {
      "text/html": [
       "<div>\n",
       "<style scoped>\n",
       "    .dataframe tbody tr th:only-of-type {\n",
       "        vertical-align: middle;\n",
       "    }\n",
       "\n",
       "    .dataframe tbody tr th {\n",
       "        vertical-align: top;\n",
       "    }\n",
       "\n",
       "    .dataframe thead th {\n",
       "        text-align: right;\n",
       "    }\n",
       "</style>\n",
       "<table border=\"1\" class=\"dataframe\">\n",
       "  <thead>\n",
       "    <tr style=\"text-align: right;\">\n",
       "      <th></th>\n",
       "      <th>Master Record Number</th>\n",
       "      <th>Year</th>\n",
       "      <th>Month</th>\n",
       "      <th>Day</th>\n",
       "      <th>Weekend</th>\n",
       "      <th>Hour</th>\n",
       "      <th>Collision Type</th>\n",
       "      <th>Injury Type</th>\n",
       "      <th>Primary Factor</th>\n",
       "      <th>Reported Location</th>\n",
       "      <th>Latitude</th>\n",
       "      <th>Longitude</th>\n",
       "    </tr>\n",
       "  </thead>\n",
       "  <tbody>\n",
       "    <tr>\n",
       "      <th>0</th>\n",
       "      <td>902363382</td>\n",
       "      <td>2015</td>\n",
       "      <td>1</td>\n",
       "      <td>5</td>\n",
       "      <td>Weekday</td>\n",
       "      <td>0.0</td>\n",
       "      <td>2-Car</td>\n",
       "      <td>No injury/unknown</td>\n",
       "      <td>OTHER (DRIVER) - EXPLAIN IN NARRATIVE</td>\n",
       "      <td>1ST &amp; FESS</td>\n",
       "      <td>39.159207</td>\n",
       "      <td>-86.525874</td>\n",
       "    </tr>\n",
       "    <tr>\n",
       "      <th>1</th>\n",
       "      <td>902364268</td>\n",
       "      <td>2015</td>\n",
       "      <td>1</td>\n",
       "      <td>6</td>\n",
       "      <td>Weekday</td>\n",
       "      <td>1500.0</td>\n",
       "      <td>2-Car</td>\n",
       "      <td>No injury/unknown</td>\n",
       "      <td>FOLLOWING TOO CLOSELY</td>\n",
       "      <td>2ND &amp; COLLEGE</td>\n",
       "      <td>39.161440</td>\n",
       "      <td>-86.534848</td>\n",
       "    </tr>\n",
       "    <tr>\n",
       "      <th>2</th>\n",
       "      <td>902364412</td>\n",
       "      <td>2015</td>\n",
       "      <td>1</td>\n",
       "      <td>6</td>\n",
       "      <td>Weekend</td>\n",
       "      <td>2300.0</td>\n",
       "      <td>2-Car</td>\n",
       "      <td>Non-incapacitating</td>\n",
       "      <td>DISREGARD SIGNAL/REG SIGN</td>\n",
       "      <td>BASSWOOD &amp; BLOOMFIELD</td>\n",
       "      <td>39.149780</td>\n",
       "      <td>-86.568890</td>\n",
       "    </tr>\n",
       "    <tr>\n",
       "      <th>3</th>\n",
       "      <td>902364551</td>\n",
       "      <td>2015</td>\n",
       "      <td>1</td>\n",
       "      <td>7</td>\n",
       "      <td>Weekend</td>\n",
       "      <td>900.0</td>\n",
       "      <td>2-Car</td>\n",
       "      <td>Non-incapacitating</td>\n",
       "      <td>FAILURE TO YIELD RIGHT OF WAY</td>\n",
       "      <td>GATES &amp; JACOBS</td>\n",
       "      <td>39.165655</td>\n",
       "      <td>-86.575956</td>\n",
       "    </tr>\n",
       "    <tr>\n",
       "      <th>4</th>\n",
       "      <td>902364615</td>\n",
       "      <td>2015</td>\n",
       "      <td>1</td>\n",
       "      <td>7</td>\n",
       "      <td>Weekend</td>\n",
       "      <td>1100.0</td>\n",
       "      <td>2-Car</td>\n",
       "      <td>No injury/unknown</td>\n",
       "      <td>FAILURE TO YIELD RIGHT OF WAY</td>\n",
       "      <td>W 3RD</td>\n",
       "      <td>39.164848</td>\n",
       "      <td>-86.579625</td>\n",
       "    </tr>\n",
       "  </tbody>\n",
       "</table>\n",
       "</div>"
      ],
      "text/plain": [
       "   Master Record Number  Year  Month  Day  Weekend    Hour Collision Type  \\\n",
       "0             902363382  2015      1    5  Weekday     0.0          2-Car   \n",
       "1             902364268  2015      1    6  Weekday  1500.0          2-Car   \n",
       "2             902364412  2015      1    6  Weekend  2300.0          2-Car   \n",
       "3             902364551  2015      1    7  Weekend   900.0          2-Car   \n",
       "4             902364615  2015      1    7  Weekend  1100.0          2-Car   \n",
       "\n",
       "          Injury Type                         Primary Factor  \\\n",
       "0   No injury/unknown  OTHER (DRIVER) - EXPLAIN IN NARRATIVE   \n",
       "1   No injury/unknown                  FOLLOWING TOO CLOSELY   \n",
       "2  Non-incapacitating              DISREGARD SIGNAL/REG SIGN   \n",
       "3  Non-incapacitating          FAILURE TO YIELD RIGHT OF WAY   \n",
       "4   No injury/unknown          FAILURE TO YIELD RIGHT OF WAY   \n",
       "\n",
       "       Reported Location   Latitude  Longitude  \n",
       "0             1ST & FESS  39.159207 -86.525874  \n",
       "1          2ND & COLLEGE  39.161440 -86.534848  \n",
       "2  BASSWOOD & BLOOMFIELD  39.149780 -86.568890  \n",
       "3         GATES & JACOBS  39.165655 -86.575956  \n",
       "4                  W 3RD  39.164848 -86.579625  "
      ]
     },
     "execution_count": 2,
     "metadata": {},
     "output_type": "execute_result"
    }
   ],
   "source": [
    "#read csv  data into dataframe\n",
    "df = pd.read_csv(\"monroe_county_crash_data2003_to_2015.csv\")\n",
    "df.head(5) # print first few lines of the data"
   ]
  },
  {
   "cell_type": "code",
   "execution_count": 3,
   "metadata": {},
   "outputs": [
    {
     "data": {
      "text/html": [
       "<div>\n",
       "<style scoped>\n",
       "    .dataframe tbody tr th:only-of-type {\n",
       "        vertical-align: middle;\n",
       "    }\n",
       "\n",
       "    .dataframe tbody tr th {\n",
       "        vertical-align: top;\n",
       "    }\n",
       "\n",
       "    .dataframe thead th {\n",
       "        text-align: right;\n",
       "    }\n",
       "</style>\n",
       "<table border=\"1\" class=\"dataframe\">\n",
       "  <thead>\n",
       "    <tr style=\"text-align: right;\">\n",
       "      <th></th>\n",
       "      <th>Master Record Number</th>\n",
       "      <th>Year</th>\n",
       "      <th>Month</th>\n",
       "      <th>Day</th>\n",
       "      <th>Hour</th>\n",
       "      <th>Latitude</th>\n",
       "      <th>Longitude</th>\n",
       "    </tr>\n",
       "  </thead>\n",
       "  <tbody>\n",
       "    <tr>\n",
       "      <th>count</th>\n",
       "      <td>5.394300e+04</td>\n",
       "      <td>53943.000000</td>\n",
       "      <td>53943.000000</td>\n",
       "      <td>53943.000000</td>\n",
       "      <td>53718.000000</td>\n",
       "      <td>53913.000000</td>\n",
       "      <td>53913.000000</td>\n",
       "    </tr>\n",
       "    <tr>\n",
       "      <th>mean</th>\n",
       "      <td>6.748119e+08</td>\n",
       "      <td>2008.968059</td>\n",
       "      <td>6.662162</td>\n",
       "      <td>4.196912</td>\n",
       "      <td>1347.265349</td>\n",
       "      <td>35.582109</td>\n",
       "      <td>-78.619224</td>\n",
       "    </tr>\n",
       "    <tr>\n",
       "      <th>std</th>\n",
       "      <td>3.907563e+08</td>\n",
       "      <td>3.789760</td>\n",
       "      <td>3.514630</td>\n",
       "      <td>1.909440</td>\n",
       "      <td>531.654039</td>\n",
       "      <td>11.289883</td>\n",
       "      <td>24.957587</td>\n",
       "    </tr>\n",
       "    <tr>\n",
       "      <th>min</th>\n",
       "      <td>1.470500e+04</td>\n",
       "      <td>2003.000000</td>\n",
       "      <td>1.000000</td>\n",
       "      <td>1.000000</td>\n",
       "      <td>0.000000</td>\n",
       "      <td>0.000000</td>\n",
       "      <td>-88.959213</td>\n",
       "    </tr>\n",
       "    <tr>\n",
       "      <th>25%</th>\n",
       "      <td>1.991074e+06</td>\n",
       "      <td>2006.000000</td>\n",
       "      <td>4.000000</td>\n",
       "      <td>3.000000</td>\n",
       "      <td>1000.000000</td>\n",
       "      <td>39.142048</td>\n",
       "      <td>-86.551520</td>\n",
       "    </tr>\n",
       "    <tr>\n",
       "      <th>50%</th>\n",
       "      <td>9.011241e+08</td>\n",
       "      <td>2009.000000</td>\n",
       "      <td>7.000000</td>\n",
       "      <td>4.000000</td>\n",
       "      <td>1400.000000</td>\n",
       "      <td>39.164430</td>\n",
       "      <td>-86.530992</td>\n",
       "    </tr>\n",
       "    <tr>\n",
       "      <th>75%</th>\n",
       "      <td>9.019039e+08</td>\n",
       "      <td>2012.000000</td>\n",
       "      <td>10.000000</td>\n",
       "      <td>6.000000</td>\n",
       "      <td>1700.000000</td>\n",
       "      <td>39.173344</td>\n",
       "      <td>-86.508288</td>\n",
       "    </tr>\n",
       "    <tr>\n",
       "      <th>max</th>\n",
       "      <td>9.026394e+08</td>\n",
       "      <td>2015.000000</td>\n",
       "      <td>12.000000</td>\n",
       "      <td>7.000000</td>\n",
       "      <td>2300.000000</td>\n",
       "      <td>41.228665</td>\n",
       "      <td>86.596363</td>\n",
       "    </tr>\n",
       "  </tbody>\n",
       "</table>\n",
       "</div>"
      ],
      "text/plain": [
       "       Master Record Number          Year         Month           Day  \\\n",
       "count          5.394300e+04  53943.000000  53943.000000  53943.000000   \n",
       "mean           6.748119e+08   2008.968059      6.662162      4.196912   \n",
       "std            3.907563e+08      3.789760      3.514630      1.909440   \n",
       "min            1.470500e+04   2003.000000      1.000000      1.000000   \n",
       "25%            1.991074e+06   2006.000000      4.000000      3.000000   \n",
       "50%            9.011241e+08   2009.000000      7.000000      4.000000   \n",
       "75%            9.019039e+08   2012.000000     10.000000      6.000000   \n",
       "max            9.026394e+08   2015.000000     12.000000      7.000000   \n",
       "\n",
       "               Hour      Latitude     Longitude  \n",
       "count  53718.000000  53913.000000  53913.000000  \n",
       "mean    1347.265349     35.582109    -78.619224  \n",
       "std      531.654039     11.289883     24.957587  \n",
       "min        0.000000      0.000000    -88.959213  \n",
       "25%     1000.000000     39.142048    -86.551520  \n",
       "50%     1400.000000     39.164430    -86.530992  \n",
       "75%     1700.000000     39.173344    -86.508288  \n",
       "max     2300.000000     41.228665     86.596363  "
      ]
     },
     "execution_count": 3,
     "metadata": {},
     "output_type": "execute_result"
    }
   ],
   "source": [
    "# Print stats of the data\n",
    "df.describe()"
   ]
  },
  {
   "cell_type": "code",
   "execution_count": 4,
   "metadata": {},
   "outputs": [
    {
     "data": {
      "text/plain": [
       "(53943, 12)"
      ]
     },
     "execution_count": 4,
     "metadata": {},
     "output_type": "execute_result"
    }
   ],
   "source": [
    "# print the number of rows and number of columns\n",
    "df.shape"
   ]
  },
  {
   "cell_type": "code",
   "execution_count": 5,
   "metadata": {},
   "outputs": [
    {
     "data": {
      "text/html": [
       "<div>\n",
       "<style scoped>\n",
       "    .dataframe tbody tr th:only-of-type {\n",
       "        vertical-align: middle;\n",
       "    }\n",
       "\n",
       "    .dataframe tbody tr th {\n",
       "        vertical-align: top;\n",
       "    }\n",
       "\n",
       "    .dataframe thead th {\n",
       "        text-align: right;\n",
       "    }\n",
       "</style>\n",
       "<table border=\"1\" class=\"dataframe\">\n",
       "  <thead>\n",
       "    <tr style=\"text-align: right;\">\n",
       "      <th></th>\n",
       "      <th>Sequence_Number</th>\n",
       "      <th>Crash_Year</th>\n",
       "      <th>Crash_Month</th>\n",
       "      <th>Crash_Day</th>\n",
       "      <th>Weekend_Weekday</th>\n",
       "      <th>Time_Hour</th>\n",
       "      <th>Collision_Type</th>\n",
       "      <th>Injury_Type</th>\n",
       "      <th>Primary_Crash_Reason</th>\n",
       "      <th>Reported_Location</th>\n",
       "      <th>Latitude_Geographic_Location</th>\n",
       "      <th>Longitude_Geographic_Location</th>\n",
       "    </tr>\n",
       "  </thead>\n",
       "  <tbody>\n",
       "    <tr>\n",
       "      <th>0</th>\n",
       "      <td>902363382</td>\n",
       "      <td>2015</td>\n",
       "      <td>1</td>\n",
       "      <td>5</td>\n",
       "      <td>Weekday</td>\n",
       "      <td>0.0</td>\n",
       "      <td>2-Car</td>\n",
       "      <td>No injury/unknown</td>\n",
       "      <td>OTHER (DRIVER) - EXPLAIN IN NARRATIVE</td>\n",
       "      <td>1ST &amp; FESS</td>\n",
       "      <td>39.159207</td>\n",
       "      <td>-86.525874</td>\n",
       "    </tr>\n",
       "    <tr>\n",
       "      <th>1</th>\n",
       "      <td>902364268</td>\n",
       "      <td>2015</td>\n",
       "      <td>1</td>\n",
       "      <td>6</td>\n",
       "      <td>Weekday</td>\n",
       "      <td>1500.0</td>\n",
       "      <td>2-Car</td>\n",
       "      <td>No injury/unknown</td>\n",
       "      <td>FOLLOWING TOO CLOSELY</td>\n",
       "      <td>2ND &amp; COLLEGE</td>\n",
       "      <td>39.161440</td>\n",
       "      <td>-86.534848</td>\n",
       "    </tr>\n",
       "    <tr>\n",
       "      <th>2</th>\n",
       "      <td>902364412</td>\n",
       "      <td>2015</td>\n",
       "      <td>1</td>\n",
       "      <td>6</td>\n",
       "      <td>Weekend</td>\n",
       "      <td>2300.0</td>\n",
       "      <td>2-Car</td>\n",
       "      <td>Non-incapacitating</td>\n",
       "      <td>DISREGARD SIGNAL/REG SIGN</td>\n",
       "      <td>BASSWOOD &amp; BLOOMFIELD</td>\n",
       "      <td>39.149780</td>\n",
       "      <td>-86.568890</td>\n",
       "    </tr>\n",
       "    <tr>\n",
       "      <th>3</th>\n",
       "      <td>902364551</td>\n",
       "      <td>2015</td>\n",
       "      <td>1</td>\n",
       "      <td>7</td>\n",
       "      <td>Weekend</td>\n",
       "      <td>900.0</td>\n",
       "      <td>2-Car</td>\n",
       "      <td>Non-incapacitating</td>\n",
       "      <td>FAILURE TO YIELD RIGHT OF WAY</td>\n",
       "      <td>GATES &amp; JACOBS</td>\n",
       "      <td>39.165655</td>\n",
       "      <td>-86.575956</td>\n",
       "    </tr>\n",
       "    <tr>\n",
       "      <th>4</th>\n",
       "      <td>902364615</td>\n",
       "      <td>2015</td>\n",
       "      <td>1</td>\n",
       "      <td>7</td>\n",
       "      <td>Weekend</td>\n",
       "      <td>1100.0</td>\n",
       "      <td>2-Car</td>\n",
       "      <td>No injury/unknown</td>\n",
       "      <td>FAILURE TO YIELD RIGHT OF WAY</td>\n",
       "      <td>W 3RD</td>\n",
       "      <td>39.164848</td>\n",
       "      <td>-86.579625</td>\n",
       "    </tr>\n",
       "  </tbody>\n",
       "</table>\n",
       "</div>"
      ],
      "text/plain": [
       "   Sequence_Number  Crash_Year  Crash_Month  Crash_Day Weekend_Weekday  \\\n",
       "0        902363382        2015            1          5         Weekday   \n",
       "1        902364268        2015            1          6         Weekday   \n",
       "2        902364412        2015            1          6         Weekend   \n",
       "3        902364551        2015            1          7         Weekend   \n",
       "4        902364615        2015            1          7         Weekend   \n",
       "\n",
       "   Time_Hour Collision_Type         Injury_Type  \\\n",
       "0        0.0          2-Car   No injury/unknown   \n",
       "1     1500.0          2-Car   No injury/unknown   \n",
       "2     2300.0          2-Car  Non-incapacitating   \n",
       "3      900.0          2-Car  Non-incapacitating   \n",
       "4     1100.0          2-Car   No injury/unknown   \n",
       "\n",
       "                    Primary_Crash_Reason      Reported_Location  \\\n",
       "0  OTHER (DRIVER) - EXPLAIN IN NARRATIVE             1ST & FESS   \n",
       "1                  FOLLOWING TOO CLOSELY          2ND & COLLEGE   \n",
       "2              DISREGARD SIGNAL/REG SIGN  BASSWOOD & BLOOMFIELD   \n",
       "3          FAILURE TO YIELD RIGHT OF WAY         GATES & JACOBS   \n",
       "4          FAILURE TO YIELD RIGHT OF WAY                  W 3RD   \n",
       "\n",
       "   Latitude_Geographic_Location  Longitude_Geographic_Location  \n",
       "0                     39.159207                     -86.525874  \n",
       "1                     39.161440                     -86.534848  \n",
       "2                     39.149780                     -86.568890  \n",
       "3                     39.165655                     -86.575956  \n",
       "4                     39.164848                     -86.579625  "
      ]
     },
     "execution_count": 5,
     "metadata": {},
     "output_type": "execute_result"
    }
   ],
   "source": [
    "#Create a list with column headers\n",
    "col_names = ['Sequence_Number','Crash_Year','Crash_Month','Crash_Day','Weekend_Weekday','Time_Hour',\n",
    "             'Collision_Type','Injury_Type','Primary_Crash_Reason','Reported_Location',\n",
    "             'Latitude_Geographic_Location','Longitude_Geographic_Location']\n",
    "\n",
    "#read csv into dataframe after replacing the header with a pre-defined names\n",
    "df = pd.read_csv(\"monroe_county_crash_data2003_to_2015.csv\", header = 0, names = col_names)\n",
    "df.head(5)"
   ]
  },
  {
   "cell_type": "code",
   "execution_count": 6,
   "metadata": {},
   "outputs": [
    {
     "name": "stdout",
     "output_type": "stream",
     "text": [
      "Duplicate Rows except first occurrence based on all columns are :\n",
      "Empty DataFrame\n",
      "Columns: [Sequence_Number, Crash_Year, Crash_Month, Crash_Day, Weekend_Weekday, Time_Hour, Collision_Type, Injury_Type, Primary_Crash_Reason, Reported_Location, Latitude_Geographic_Location, Longitude_Geographic_Location]\n",
      "Index: []\n"
     ]
    }
   ],
   "source": [
    "#Verify the data if there are any duplicates\n",
    "\n",
    "dup_df = df[df.duplicated()]\n",
    "print(\"Duplicate Rows except first occurrence based on all columns are :\")\n",
    "print(dup_df)"
   ]
  },
  {
   "cell_type": "markdown",
   "metadata": {},
   "source": [
    "From the above output, we can observe that there are no duplicates in the Crash dataset."
   ]
  },
  {
   "cell_type": "code",
   "execution_count": 7,
   "metadata": {},
   "outputs": [
    {
     "data": {
      "text/plain": [
       "Sequence_Number                    int64\n",
       "Crash_Year                         int64\n",
       "Crash_Month                        int64\n",
       "Crash_Day                          int64\n",
       "Weekend_Weekday                   object\n",
       "Time_Hour                        float64\n",
       "Collision_Type                    object\n",
       "Injury_Type                       object\n",
       "Primary_Crash_Reason              object\n",
       "Reported_Location                 object\n",
       "Latitude_Geographic_Location     float64\n",
       "Longitude_Geographic_Location    float64\n",
       "dtype: object"
      ]
     },
     "execution_count": 7,
     "metadata": {},
     "output_type": "execute_result"
    }
   ],
   "source": [
    "# print the data types of the columns\n",
    "df.dtypes"
   ]
  },
  {
   "cell_type": "code",
   "execution_count": 8,
   "metadata": {},
   "outputs": [
    {
     "data": {
      "text/plain": [
       "Sequence_Number                     0\n",
       "Crash_Year                          0\n",
       "Crash_Month                         0\n",
       "Crash_Day                           0\n",
       "Weekend_Weekday                    68\n",
       "Time_Hour                         225\n",
       "Collision_Type                      6\n",
       "Injury_Type                         0\n",
       "Primary_Crash_Reason             1121\n",
       "Reported_Location                  35\n",
       "Latitude_Geographic_Location       30\n",
       "Longitude_Geographic_Location      30\n",
       "dtype: int64"
      ]
     },
     "execution_count": 8,
     "metadata": {},
     "output_type": "execute_result"
    }
   ],
   "source": [
    "# Checking the count of null values in each column\n",
    "df.isnull().sum()"
   ]
  },
  {
   "cell_type": "code",
   "execution_count": 9,
   "metadata": {},
   "outputs": [
    {
     "data": {
      "text/html": [
       "<div>\n",
       "<style scoped>\n",
       "    .dataframe tbody tr th:only-of-type {\n",
       "        vertical-align: middle;\n",
       "    }\n",
       "\n",
       "    .dataframe tbody tr th {\n",
       "        vertical-align: top;\n",
       "    }\n",
       "\n",
       "    .dataframe thead th {\n",
       "        text-align: right;\n",
       "    }\n",
       "</style>\n",
       "<table border=\"1\" class=\"dataframe\">\n",
       "  <thead>\n",
       "    <tr style=\"text-align: right;\">\n",
       "      <th></th>\n",
       "      <th>Sequence_Number</th>\n",
       "      <th>Crash_Year</th>\n",
       "      <th>Crash_Month</th>\n",
       "      <th>Crash_Day</th>\n",
       "      <th>Weekend_Weekday</th>\n",
       "      <th>Time_Hour</th>\n",
       "      <th>Collision_Type</th>\n",
       "      <th>Injury_Type</th>\n",
       "      <th>Primary_Crash_Reason</th>\n",
       "      <th>Reported_Location</th>\n",
       "      <th>Latitude_Geographic_Location</th>\n",
       "      <th>Longitude_Geographic_Location</th>\n",
       "      <th>date_calc</th>\n",
       "    </tr>\n",
       "  </thead>\n",
       "  <tbody>\n",
       "    <tr>\n",
       "      <th>0</th>\n",
       "      <td>902363382</td>\n",
       "      <td>2015</td>\n",
       "      <td>1</td>\n",
       "      <td>5</td>\n",
       "      <td>Weekday</td>\n",
       "      <td>0.0</td>\n",
       "      <td>2-Car</td>\n",
       "      <td>No injury/unknown</td>\n",
       "      <td>OTHER (DRIVER) - EXPLAIN IN NARRATIVE</td>\n",
       "      <td>1ST &amp; FESS</td>\n",
       "      <td>39.159207</td>\n",
       "      <td>-86.525874</td>\n",
       "      <td>2015-01-05</td>\n",
       "    </tr>\n",
       "    <tr>\n",
       "      <th>1</th>\n",
       "      <td>902364268</td>\n",
       "      <td>2015</td>\n",
       "      <td>1</td>\n",
       "      <td>6</td>\n",
       "      <td>Weekday</td>\n",
       "      <td>1500.0</td>\n",
       "      <td>2-Car</td>\n",
       "      <td>No injury/unknown</td>\n",
       "      <td>FOLLOWING TOO CLOSELY</td>\n",
       "      <td>2ND &amp; COLLEGE</td>\n",
       "      <td>39.161440</td>\n",
       "      <td>-86.534848</td>\n",
       "      <td>2015-01-06</td>\n",
       "    </tr>\n",
       "    <tr>\n",
       "      <th>2</th>\n",
       "      <td>902364412</td>\n",
       "      <td>2015</td>\n",
       "      <td>1</td>\n",
       "      <td>6</td>\n",
       "      <td>Weekend</td>\n",
       "      <td>2300.0</td>\n",
       "      <td>2-Car</td>\n",
       "      <td>Non-incapacitating</td>\n",
       "      <td>DISREGARD SIGNAL/REG SIGN</td>\n",
       "      <td>BASSWOOD &amp; BLOOMFIELD</td>\n",
       "      <td>39.149780</td>\n",
       "      <td>-86.568890</td>\n",
       "      <td>2015-01-06</td>\n",
       "    </tr>\n",
       "    <tr>\n",
       "      <th>3</th>\n",
       "      <td>902364551</td>\n",
       "      <td>2015</td>\n",
       "      <td>1</td>\n",
       "      <td>7</td>\n",
       "      <td>Weekend</td>\n",
       "      <td>900.0</td>\n",
       "      <td>2-Car</td>\n",
       "      <td>Non-incapacitating</td>\n",
       "      <td>FAILURE TO YIELD RIGHT OF WAY</td>\n",
       "      <td>GATES &amp; JACOBS</td>\n",
       "      <td>39.165655</td>\n",
       "      <td>-86.575956</td>\n",
       "      <td>2015-01-07</td>\n",
       "    </tr>\n",
       "    <tr>\n",
       "      <th>4</th>\n",
       "      <td>902364615</td>\n",
       "      <td>2015</td>\n",
       "      <td>1</td>\n",
       "      <td>7</td>\n",
       "      <td>Weekend</td>\n",
       "      <td>1100.0</td>\n",
       "      <td>2-Car</td>\n",
       "      <td>No injury/unknown</td>\n",
       "      <td>FAILURE TO YIELD RIGHT OF WAY</td>\n",
       "      <td>W 3RD</td>\n",
       "      <td>39.164848</td>\n",
       "      <td>-86.579625</td>\n",
       "      <td>2015-01-07</td>\n",
       "    </tr>\n",
       "  </tbody>\n",
       "</table>\n",
       "</div>"
      ],
      "text/plain": [
       "   Sequence_Number  Crash_Year  Crash_Month  Crash_Day Weekend_Weekday  \\\n",
       "0        902363382        2015            1          5         Weekday   \n",
       "1        902364268        2015            1          6         Weekday   \n",
       "2        902364412        2015            1          6         Weekend   \n",
       "3        902364551        2015            1          7         Weekend   \n",
       "4        902364615        2015            1          7         Weekend   \n",
       "\n",
       "   Time_Hour Collision_Type         Injury_Type  \\\n",
       "0        0.0          2-Car   No injury/unknown   \n",
       "1     1500.0          2-Car   No injury/unknown   \n",
       "2     2300.0          2-Car  Non-incapacitating   \n",
       "3      900.0          2-Car  Non-incapacitating   \n",
       "4     1100.0          2-Car   No injury/unknown   \n",
       "\n",
       "                    Primary_Crash_Reason      Reported_Location  \\\n",
       "0  OTHER (DRIVER) - EXPLAIN IN NARRATIVE             1ST & FESS   \n",
       "1                  FOLLOWING TOO CLOSELY          2ND & COLLEGE   \n",
       "2              DISREGARD SIGNAL/REG SIGN  BASSWOOD & BLOOMFIELD   \n",
       "3          FAILURE TO YIELD RIGHT OF WAY         GATES & JACOBS   \n",
       "4          FAILURE TO YIELD RIGHT OF WAY                  W 3RD   \n",
       "\n",
       "   Latitude_Geographic_Location  Longitude_Geographic_Location  date_calc  \n",
       "0                     39.159207                     -86.525874 2015-01-05  \n",
       "1                     39.161440                     -86.534848 2015-01-06  \n",
       "2                     39.149780                     -86.568890 2015-01-06  \n",
       "3                     39.165655                     -86.575956 2015-01-07  \n",
       "4                     39.164848                     -86.579625 2015-01-07  "
      ]
     },
     "execution_count": 9,
     "metadata": {},
     "output_type": "execute_result"
    }
   ],
   "source": [
    "# concatenate 3 fields and build new field 'date_calc'\n",
    "\n",
    "Crash_Year_List = df['Crash_Year'].values.tolist()  # Create list using dataframe column Crash_Year\n",
    "Crash_Month_List = df['Crash_Month'].values.tolist() # Create list using dataframe column Crash_month\n",
    "Crash_Day_List = df['Crash_Day'].values.tolist() # Create list using dataframe column Crash_day\n",
    "\n",
    "# Create and Add NEw field 'data_calc' to the dataframe \n",
    "df1 = pd.DataFrame({'year': Crash_Year_List, 'month': Crash_Month_List, 'day': Crash_Day_List})\n",
    "df['date_calc'] = pd.to_datetime(df1)\n",
    "\n",
    "df.head()"
   ]
  },
  {
   "cell_type": "code",
   "execution_count": 10,
   "metadata": {},
   "outputs": [
    {
     "data": {
      "text/html": [
       "<div>\n",
       "<style scoped>\n",
       "    .dataframe tbody tr th:only-of-type {\n",
       "        vertical-align: middle;\n",
       "    }\n",
       "\n",
       "    .dataframe tbody tr th {\n",
       "        vertical-align: top;\n",
       "    }\n",
       "\n",
       "    .dataframe thead th {\n",
       "        text-align: right;\n",
       "    }\n",
       "</style>\n",
       "<table border=\"1\" class=\"dataframe\">\n",
       "  <thead>\n",
       "    <tr style=\"text-align: right;\">\n",
       "      <th></th>\n",
       "      <th>Crash_Year</th>\n",
       "      <th>Crash_Month</th>\n",
       "      <th>Crash_Day</th>\n",
       "      <th>date_calc</th>\n",
       "    </tr>\n",
       "  </thead>\n",
       "  <tbody>\n",
       "    <tr>\n",
       "      <th>1</th>\n",
       "      <td>2015</td>\n",
       "      <td>1</td>\n",
       "      <td>6</td>\n",
       "      <td>2015-01-06</td>\n",
       "    </tr>\n",
       "    <tr>\n",
       "      <th>2</th>\n",
       "      <td>2015</td>\n",
       "      <td>1</td>\n",
       "      <td>6</td>\n",
       "      <td>2015-01-06</td>\n",
       "    </tr>\n",
       "    <tr>\n",
       "      <th>3</th>\n",
       "      <td>2015</td>\n",
       "      <td>1</td>\n",
       "      <td>7</td>\n",
       "      <td>2015-01-07</td>\n",
       "    </tr>\n",
       "    <tr>\n",
       "      <th>4</th>\n",
       "      <td>2015</td>\n",
       "      <td>1</td>\n",
       "      <td>7</td>\n",
       "      <td>2015-01-07</td>\n",
       "    </tr>\n",
       "    <tr>\n",
       "      <th>5</th>\n",
       "      <td>2015</td>\n",
       "      <td>1</td>\n",
       "      <td>6</td>\n",
       "      <td>2015-01-06</td>\n",
       "    </tr>\n",
       "  </tbody>\n",
       "</table>\n",
       "</div>"
      ],
      "text/plain": [
       "   Crash_Year  Crash_Month  Crash_Day  date_calc\n",
       "1        2015            1          6 2015-01-06\n",
       "2        2015            1          6 2015-01-06\n",
       "3        2015            1          7 2015-01-07\n",
       "4        2015            1          7 2015-01-07\n",
       "5        2015            1          6 2015-01-06"
      ]
     },
     "execution_count": 10,
     "metadata": {},
     "output_type": "execute_result"
    }
   ],
   "source": [
    "# Showing New Field created 'date_calc'\n",
    "\n",
    "df2 = df.loc[1:5, ['Crash_Year','Crash_Month','Crash_Day','date_calc']]\n",
    "df2.head()"
   ]
  },
  {
   "cell_type": "code",
   "execution_count": 11,
   "metadata": {},
   "outputs": [
    {
     "data": {
      "image/png": "[encoded data removed]",
      "text/plain": [
       "<Figure size 720x720 with 1 Axes>"
      ]
     },
     "metadata": {},
     "output_type": "display_data"
    }
   ],
   "source": [
    "# Bar Graph to show the 'Crash Reason' vs 'number of crashes'.\n",
    "\n",
    "plt.figure(figsize=(10,10))\n",
    "df.groupby(['Primary_Crash_Reason']).size().sort_values(ascending=True).plot(kind='barh')\n",
    "plt.xlabel('Number of Crashes')\n",
    "plt.title('Crash Reason')\n",
    "plt.show()"
   ]
  },
  {
   "cell_type": "code",
   "execution_count": 12,
   "metadata": {},
   "outputs": [
    {
     "data": {
      "image/png": "[encoded data removed]",
      "text/plain": [
       "<Figure size 360x360 with 1 Axes>"
      ]
     },
     "metadata": {},
     "output_type": "display_data"
    }
   ],
   "source": [
    "# Bar Graph to show the 'Collision Type' vs 'number of crashes'.\n",
    "\n",
    "plt.figure(figsize=(5,5))\n",
    "df.groupby(['Collision_Type']).size().sort_values(ascending=True).plot(kind='barh')\n",
    "plt.xlabel('Number of Crashes')\n",
    "plt.title('Type of Crash')\n",
    "plt.show()"
   ]
  },
  {
   "cell_type": "code",
   "execution_count": 13,
   "metadata": {},
   "outputs": [
    {
     "data": {
      "text/plain": [
       "Text(0.5,1,'Crash by Injury_Type')"
      ]
     },
     "execution_count": 13,
     "metadata": {},
     "output_type": "execute_result"
    },
    {
     "data": {
      "image/png": "[encoded data removed]",
      "text/plain": [
       "<Figure size 360x360 with 1 Axes>"
      ]
     },
     "metadata": {},
     "output_type": "display_data"
    }
   ],
   "source": [
    "# Bar Graph to show the 'Injury Type' vs 'number of crashes'.\n",
    "\n",
    "plt.figure(figsize=(5,5))\n",
    "df_loc=df['Injury_Type'].value_counts().iloc[:20].index\n",
    "sns.countplot(y='Injury_Type',data=df,order=df_loc)\n",
    "plt.title('Crash by Injury_Type')"
   ]
  },
  {
   "cell_type": "code",
   "execution_count": 14,
   "metadata": {},
   "outputs": [
    {
     "data": {
      "text/plain": [
       "Crash_Year\n",
       "2003    4625\n",
       "2008    4341\n",
       "2015    4313\n",
       "2004    4269\n",
       "2012    4223\n",
       "2014    4167\n",
       "2010    4060\n",
       "2013    4058\n",
       "2007    4055\n",
       "2009    4014\n",
       "2005    3967\n",
       "2006    3937\n",
       "2011    3914\n",
       "Name: Sequence_Number, dtype: int64"
      ]
     },
     "execution_count": 14,
     "metadata": {},
     "output_type": "execute_result"
    }
   ],
   "source": [
    "# Number of Crashes by Year\n",
    "Crash_Year_Count=df.groupby(\"Crash_Year\",sort=False)[\"Sequence_Number\"].count().sort_values(ascending=False)\n",
    "Crash_Year_Count"
   ]
  },
  {
   "cell_type": "code",
   "execution_count": 15,
   "metadata": {},
   "outputs": [
    {
     "data": {
      "text/plain": [
       "Crash_Month\n",
       "10    5581\n",
       "9     4994\n",
       "11    4884\n",
       "1     4665\n",
       "12    4598\n",
       "4     4574\n",
       "2     4541\n",
       "8     4480\n",
       "5     4212\n",
       "3     3842\n",
       "7     3820\n",
       "6     3752\n",
       "Name: Sequence_Number, dtype: int64"
      ]
     },
     "execution_count": 15,
     "metadata": {},
     "output_type": "execute_result"
    }
   ],
   "source": [
    "# Number of Crashes by Month\n",
    "Crash_Year_Month=df.groupby(\"Crash_Month\",sort=False)[\"Sequence_Number\"].count().sort_values(ascending=False)\n",
    "Crash_Year_Month"
   ]
  },
  {
   "cell_type": "code",
   "execution_count": 16,
   "metadata": {},
   "outputs": [
    {
     "data": {
      "text/plain": [
       "Sequence_Number                           int64\n",
       "Crash_Year                                int64\n",
       "Crash_Month                               int64\n",
       "Crash_Day                                 int64\n",
       "Weekend_Weekday                          object\n",
       "Time_Hour                               float64\n",
       "Collision_Type                           object\n",
       "Injury_Type                              object\n",
       "Primary_Crash_Reason                     object\n",
       "Reported_Location                        object\n",
       "Latitude_Geographic_Location            float64\n",
       "Longitude_Geographic_Location           float64\n",
       "date_calc                        datetime64[ns]\n",
       "dtype: object"
      ]
     },
     "execution_count": 16,
     "metadata": {},
     "output_type": "execute_result"
    }
   ],
   "source": [
    "df.dtypes"
   ]
  },
  {
   "cell_type": "code",
   "execution_count": 17,
   "metadata": {},
   "outputs": [],
   "source": [
    "import sqlite3   # import sqlite3 package\n",
    "conn = sqlite3.connect('DSC540_monroe_county.db')  # connect to database\n",
    "c = conn.cursor()    # create an instance"
   ]
  },
  {
   "cell_type": "code",
   "execution_count": 19,
   "metadata": {},
   "outputs": [],
   "source": [
    "# Create table - MONROE_COUNTY\n",
    "c.execute('''CREATE TABLE MONROE_COUNTY(\n",
    "[Sequence_Number] INTEGER,\n",
    "[Crash_Year]  INTEGER,\n",
    "[Crash_Month]  INTEGER,\n",
    "[Crash_Day]  INTEGER,\n",
    "[Weekend_Weekday] TEXT,\n",
    "[Time_Hour] FLOAT,\n",
    "[Collision_Type] TEXT,\n",
    "[Injury_Type] TEXT,\n",
    "[Primary_Crash_Reason] TEXT,\n",
    "[Reported_Location] TEXT,\n",
    "[Latitude_Geographic_Location] FLOAT,\n",
    "[Longitude_Geographic_Location] FLOAT,\n",
    "[date_calc] DATATIME\n",
    ")''')   # Create table syntax\n",
    "conn.commit()  # Commit the changes"
   ]
  },
  {
   "cell_type": "code",
   "execution_count": 20,
   "metadata": {},
   "outputs": [],
   "source": [
    "import pandas as pd   # Import the package pandas\n",
    "# load data from Dataframe to Table.\n",
    "df.to_sql('MONROE_COUNTY', conn, if_exists='append', index=False)"
   ]
  },
  {
   "cell_type": "code",
   "execution_count": null,
   "metadata": {},
   "outputs": [],
   "source": []
  }
 ],
 "metadata": {
  "kernelspec": {
   "display_name": "Python 3",
   "language": "python",
   "name": "python3"
  },
  "language_info": {
   "codemirror_mode": {
    "name": "ipython",
    "version": 3
   },
   "file_extension": ".py",
   "mimetype": "text/x-python",
   "name": "python",
   "nbconvert_exporter": "python",
   "pygments_lexer": "ipython3",
   "version": "3.6.5"
  }
 },
 "nbformat": 4,
 "nbformat_minor": 2
}
