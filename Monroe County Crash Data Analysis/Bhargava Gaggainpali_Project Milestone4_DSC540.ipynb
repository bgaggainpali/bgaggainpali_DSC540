{
 "cells": [
  {
   "cell_type": "markdown",
   "metadata": {},
   "source": [
    "# Project Milestone4_DSC540"
   ]
  },
  {
   "cell_type": "code",
   "execution_count": 1,
   "metadata": {},
   "outputs": [],
   "source": [
    "#Name: Bhargava Gaggainpali\n",
    "#Course: DSC 540 Data Preparation\n",
    "#Title: Monroe County Crash Data\n",
    "\n",
    "#Project Milestone 4 - API (Retrive Weather data using API request from JAN-1-2015 till DEC-31-2015)"
   ]
  },
  {
   "cell_type": "code",
   "execution_count": 2,
   "metadata": {},
   "outputs": [],
   "source": [
    "# Import required Packages\n",
    "import requests\n",
    "import pandas as pd\n",
    "import matplotlib.pyplot as plt"
   ]
  },
  {
   "cell_type": "code",
   "execution_count": 3,
   "metadata": {},
   "outputs": [],
   "source": [
    "# Assign the API URL to the variable\n",
    "api_url = \"https://visual-crossing-weather.p.rapidapi.com/history\"\n"
   ]
  },
  {
   "cell_type": "code",
   "execution_count": 4,
   "metadata": {},
   "outputs": [],
   "source": [
    "# define host and Key values for the api url\n",
    "api_headers_host_key = {\n",
    "    'x-rapidapi-host': \"visual-crossing-weather.p.rapidapi.com\",\n",
    "    'x-rapidapi-key': \"4dfabccb6fmshfc4569373e50986p1ecec0jsne82af4675a69\"\n",
    "    }"
   ]
  },
  {
   "cell_type": "code",
   "execution_count": 5,
   "metadata": {},
   "outputs": [],
   "source": [
    "# defining the query string with the data and time for the requested period JAN-1-2015 till DEC-31-2015 for Monroe,MI,USA\n",
    "api_querystring = {\"dayStartTime\":\"0:0:00\",\"dayEndTime\":\"0:0:00\",\"aggregateHours\":\"24\",\n",
    "                    \"startDateTime\":\"2015-01-01T00:00:00\",\"endDateTime\":\"2015-12-31T00:00:00\",\n",
    "                   \"contentType\":\"csv\",\"shortColumnNames\":\"false\",\"location\":\"Monroe,MI,USA\",\"unitGroup\":\"us\"}\n"
   ]
  },
  {
   "cell_type": "code",
   "execution_count": 6,
   "metadata": {},
   "outputs": [],
   "source": [
    "# Call the api and save the respose in to a variable\n",
    "return_response = requests.request(\"GET\", api_url, headers=api_headers_host_key, params=api_querystring)\n"
   ]
  },
  {
   "cell_type": "code",
   "execution_count": 7,
   "metadata": {},
   "outputs": [
    {
     "name": "stdout",
     "output_type": "stream",
     "text": [
      "<Response [200]>\n"
     ]
    }
   ],
   "source": [
    "# print the respponse of the api\n",
    "print(return_response)"
   ]
  },
  {
   "cell_type": "code",
   "execution_count": 8,
   "metadata": {},
   "outputs": [],
   "source": [
    "# define a csv file to save the respose of the api call\n",
    "api_response_csv_file = r'C:\\BELLEVUE\\DSC540\\API_temp_file.csv'\n"
   ]
  },
  {
   "cell_type": "code",
   "execution_count": 9,
   "metadata": {},
   "outputs": [],
   "source": [
    "# save the respose of the api call in to the csv file\n",
    "with open(api_response_csv_file, 'w') as outfile:\n",
    "    outfile.write(return_response.text)\n"
   ]
  },
  {
   "cell_type": "code",
   "execution_count": 10,
   "metadata": {},
   "outputs": [],
   "source": [
    "# read the csv file data into dataframe\n",
    "df_api_weather = pd.read_csv(api_response_csv_file)"
   ]
  },
  {
   "cell_type": "code",
   "execution_count": 11,
   "metadata": {},
   "outputs": [
    {
     "data": {
      "text/plain": [
       "(365, 25)"
      ]
     },
     "execution_count": 11,
     "metadata": {},
     "output_type": "execute_result"
    }
   ],
   "source": [
    "# Retrive the number of rows and columns in data frame\n",
    "df_api_weather.shape"
   ]
  },
  {
   "cell_type": "code",
   "execution_count": 12,
   "metadata": {},
   "outputs": [
    {
     "data": {
      "text/plain": [
       "Index(['Address', 'Date time', 'Minimum Temperature', 'Maximum Temperature',\n",
       "       'Temperature', 'Dew Point', 'Relative Humidity', 'Heat Index',\n",
       "       'Wind Speed', 'Wind Gust', 'Wind Direction', 'Wind Chill',\n",
       "       'Precipitation', 'Precipitation Cover', 'Snow Depth', 'Visibility',\n",
       "       'Cloud Cover', 'Sea Level Pressure', 'Weather Type', 'Latitude',\n",
       "       'Longitude', 'Resolved Address', 'Name', 'Info', 'Conditions'],\n",
       "      dtype='object')"
      ]
     },
     "execution_count": 12,
     "metadata": {},
     "output_type": "execute_result"
    }
   ],
   "source": [
    "# list the columns in the dataframe\n",
    "df_api_weather.columns\n"
   ]
  },
  {
   "cell_type": "code",
   "execution_count": 13,
   "metadata": {},
   "outputs": [
    {
     "data": {
      "text/plain": [
       "Address                 object\n",
       "Date time               object\n",
       "Minimum Temperature    float64\n",
       "Maximum Temperature    float64\n",
       "Temperature            float64\n",
       "Dew Point              float64\n",
       "Relative Humidity      float64\n",
       "Heat Index             float64\n",
       "Wind Speed             float64\n",
       "Wind Gust              float64\n",
       "Wind Direction         float64\n",
       "Wind Chill             float64\n",
       "Precipitation          float64\n",
       "Precipitation Cover    float64\n",
       "Snow Depth             float64\n",
       "Visibility             float64\n",
       "Cloud Cover            float64\n",
       "Sea Level Pressure     float64\n",
       "Weather Type           float64\n",
       "Latitude               float64\n",
       "Longitude              float64\n",
       "Resolved Address        object\n",
       "Name                    object\n",
       "Info                   float64\n",
       "Conditions              object\n",
       "dtype: object"
      ]
     },
     "execution_count": 13,
     "metadata": {},
     "output_type": "execute_result"
    }
   ],
   "source": [
    "# print the data types of the columns\n",
    "df_api_weather.dtypes\n"
   ]
  },
  {
   "cell_type": "code",
   "execution_count": 14,
   "metadata": {},
   "outputs": [
    {
     "data": {
      "text/html": [
       "<div>\n",
       "<style scoped>\n",
       "    .dataframe tbody tr th:only-of-type {\n",
       "        vertical-align: middle;\n",
       "    }\n",
       "\n",
       "    .dataframe tbody tr th {\n",
       "        vertical-align: top;\n",
       "    }\n",
       "\n",
       "    .dataframe thead th {\n",
       "        text-align: right;\n",
       "    }\n",
       "</style>\n",
       "<table border=\"1\" class=\"dataframe\">\n",
       "  <thead>\n",
       "    <tr style=\"text-align: right;\">\n",
       "      <th></th>\n",
       "      <th>Address</th>\n",
       "      <th>Date time</th>\n",
       "      <th>Minimum Temperature</th>\n",
       "      <th>Maximum Temperature</th>\n",
       "      <th>Temperature</th>\n",
       "      <th>Dew Point</th>\n",
       "      <th>Relative Humidity</th>\n",
       "      <th>Heat Index</th>\n",
       "      <th>Wind Speed</th>\n",
       "      <th>Wind Gust</th>\n",
       "      <th>...</th>\n",
       "      <th>Visibility</th>\n",
       "      <th>Cloud Cover</th>\n",
       "      <th>Sea Level Pressure</th>\n",
       "      <th>Weather Type</th>\n",
       "      <th>Latitude</th>\n",
       "      <th>Longitude</th>\n",
       "      <th>Resolved Address</th>\n",
       "      <th>Name</th>\n",
       "      <th>Info</th>\n",
       "      <th>Conditions</th>\n",
       "    </tr>\n",
       "  </thead>\n",
       "  <tbody>\n",
       "    <tr>\n",
       "      <th>0</th>\n",
       "      <td>Monroe,MI,USA</td>\n",
       "      <td>01/01/2015</td>\n",
       "      <td>17.5</td>\n",
       "      <td>30.2</td>\n",
       "      <td>23.8</td>\n",
       "      <td>10.7</td>\n",
       "      <td>57.59</td>\n",
       "      <td>NaN</td>\n",
       "      <td>21.8</td>\n",
       "      <td>29.9</td>\n",
       "      <td>...</td>\n",
       "      <td>9.9</td>\n",
       "      <td>31.5</td>\n",
       "      <td>NaN</td>\n",
       "      <td>NaN</td>\n",
       "      <td>41.9161</td>\n",
       "      <td>-83.3979</td>\n",
       "      <td>Monroe, MI, United States</td>\n",
       "      <td>Monroe, MI, United States</td>\n",
       "      <td>NaN</td>\n",
       "      <td>Partially cloudy</td>\n",
       "    </tr>\n",
       "    <tr>\n",
       "      <th>1</th>\n",
       "      <td>Monroe,MI,USA</td>\n",
       "      <td>01/02/2015</td>\n",
       "      <td>26.6</td>\n",
       "      <td>35.5</td>\n",
       "      <td>29.3</td>\n",
       "      <td>19.8</td>\n",
       "      <td>68.26</td>\n",
       "      <td>NaN</td>\n",
       "      <td>11.3</td>\n",
       "      <td>16.1</td>\n",
       "      <td>...</td>\n",
       "      <td>9.9</td>\n",
       "      <td>49.2</td>\n",
       "      <td>NaN</td>\n",
       "      <td>NaN</td>\n",
       "      <td>41.9161</td>\n",
       "      <td>-83.3979</td>\n",
       "      <td>Monroe, MI, United States</td>\n",
       "      <td>Monroe, MI, United States</td>\n",
       "      <td>NaN</td>\n",
       "      <td>Partially cloudy</td>\n",
       "    </tr>\n",
       "    <tr>\n",
       "      <th>2</th>\n",
       "      <td>Monroe,MI,USA</td>\n",
       "      <td>01/03/2015</td>\n",
       "      <td>26.6</td>\n",
       "      <td>35.5</td>\n",
       "      <td>32.7</td>\n",
       "      <td>30.9</td>\n",
       "      <td>92.89</td>\n",
       "      <td>NaN</td>\n",
       "      <td>9.1</td>\n",
       "      <td>NaN</td>\n",
       "      <td>...</td>\n",
       "      <td>3.8</td>\n",
       "      <td>83.3</td>\n",
       "      <td>NaN</td>\n",
       "      <td>NaN</td>\n",
       "      <td>41.9161</td>\n",
       "      <td>-83.3979</td>\n",
       "      <td>Monroe, MI, United States</td>\n",
       "      <td>Monroe, MI, United States</td>\n",
       "      <td>NaN</td>\n",
       "      <td>Rain, Overcast</td>\n",
       "    </tr>\n",
       "    <tr>\n",
       "      <th>3</th>\n",
       "      <td>Monroe,MI,USA</td>\n",
       "      <td>01/04/2015</td>\n",
       "      <td>21.2</td>\n",
       "      <td>37.3</td>\n",
       "      <td>31.8</td>\n",
       "      <td>29.4</td>\n",
       "      <td>90.94</td>\n",
       "      <td>NaN</td>\n",
       "      <td>22.9</td>\n",
       "      <td>32.0</td>\n",
       "      <td>...</td>\n",
       "      <td>6.0</td>\n",
       "      <td>99.3</td>\n",
       "      <td>NaN</td>\n",
       "      <td>NaN</td>\n",
       "      <td>41.9161</td>\n",
       "      <td>-83.3979</td>\n",
       "      <td>Monroe, MI, United States</td>\n",
       "      <td>Monroe, MI, United States</td>\n",
       "      <td>NaN</td>\n",
       "      <td>Rain, Overcast</td>\n",
       "    </tr>\n",
       "    <tr>\n",
       "      <th>4</th>\n",
       "      <td>Monroe,MI,USA</td>\n",
       "      <td>01/05/2015</td>\n",
       "      <td>8.5</td>\n",
       "      <td>19.4</td>\n",
       "      <td>11.3</td>\n",
       "      <td>3.3</td>\n",
       "      <td>69.70</td>\n",
       "      <td>NaN</td>\n",
       "      <td>27.5</td>\n",
       "      <td>32.2</td>\n",
       "      <td>...</td>\n",
       "      <td>8.8</td>\n",
       "      <td>71.0</td>\n",
       "      <td>NaN</td>\n",
       "      <td>NaN</td>\n",
       "      <td>41.9161</td>\n",
       "      <td>-83.3979</td>\n",
       "      <td>Monroe, MI, United States</td>\n",
       "      <td>Monroe, MI, United States</td>\n",
       "      <td>NaN</td>\n",
       "      <td>Partially cloudy</td>\n",
       "    </tr>\n",
       "  </tbody>\n",
       "</table>\n",
       "<p>5 rows × 25 columns</p>\n",
       "</div>"
      ],
      "text/plain": [
       "         Address   Date time  Minimum Temperature  Maximum Temperature  \\\n",
       "0  Monroe,MI,USA  01/01/2015                 17.5                 30.2   \n",
       "1  Monroe,MI,USA  01/02/2015                 26.6                 35.5   \n",
       "2  Monroe,MI,USA  01/03/2015                 26.6                 35.5   \n",
       "3  Monroe,MI,USA  01/04/2015                 21.2                 37.3   \n",
       "4  Monroe,MI,USA  01/05/2015                  8.5                 19.4   \n",
       "\n",
       "   Temperature  Dew Point  Relative Humidity  Heat Index  Wind Speed  \\\n",
       "0         23.8       10.7              57.59         NaN        21.8   \n",
       "1         29.3       19.8              68.26         NaN        11.3   \n",
       "2         32.7       30.9              92.89         NaN         9.1   \n",
       "3         31.8       29.4              90.94         NaN        22.9   \n",
       "4         11.3        3.3              69.70         NaN        27.5   \n",
       "\n",
       "   Wind Gust        ...         Visibility  Cloud Cover  Sea Level Pressure  \\\n",
       "0       29.9        ...                9.9         31.5                 NaN   \n",
       "1       16.1        ...                9.9         49.2                 NaN   \n",
       "2        NaN        ...                3.8         83.3                 NaN   \n",
       "3       32.0        ...                6.0         99.3                 NaN   \n",
       "4       32.2        ...                8.8         71.0                 NaN   \n",
       "\n",
       "   Weather Type  Latitude  Longitude           Resolved Address  \\\n",
       "0           NaN   41.9161   -83.3979  Monroe, MI, United States   \n",
       "1           NaN   41.9161   -83.3979  Monroe, MI, United States   \n",
       "2           NaN   41.9161   -83.3979  Monroe, MI, United States   \n",
       "3           NaN   41.9161   -83.3979  Monroe, MI, United States   \n",
       "4           NaN   41.9161   -83.3979  Monroe, MI, United States   \n",
       "\n",
       "                        Name  Info        Conditions  \n",
       "0  Monroe, MI, United States   NaN  Partially cloudy  \n",
       "1  Monroe, MI, United States   NaN  Partially cloudy  \n",
       "2  Monroe, MI, United States   NaN    Rain, Overcast  \n",
       "3  Monroe, MI, United States   NaN    Rain, Overcast  \n",
       "4  Monroe, MI, United States   NaN  Partially cloudy  \n",
       "\n",
       "[5 rows x 25 columns]"
      ]
     },
     "execution_count": 14,
     "metadata": {},
     "output_type": "execute_result"
    }
   ],
   "source": [
    "# print the first few lines of the dataframe\n",
    "df_api_weather.head()"
   ]
  },
  {
   "cell_type": "code",
   "execution_count": 15,
   "metadata": {},
   "outputs": [
    {
     "data": {
      "text/html": [
       "<div>\n",
       "<style scoped>\n",
       "    .dataframe tbody tr th:only-of-type {\n",
       "        vertical-align: middle;\n",
       "    }\n",
       "\n",
       "    .dataframe tbody tr th {\n",
       "        vertical-align: top;\n",
       "    }\n",
       "\n",
       "    .dataframe thead th {\n",
       "        text-align: right;\n",
       "    }\n",
       "</style>\n",
       "<table border=\"1\" class=\"dataframe\">\n",
       "  <thead>\n",
       "    <tr style=\"text-align: right;\">\n",
       "      <th></th>\n",
       "      <th>Minimum Temperature</th>\n",
       "      <th>Maximum Temperature</th>\n",
       "      <th>Temperature</th>\n",
       "      <th>Dew Point</th>\n",
       "      <th>Relative Humidity</th>\n",
       "      <th>Heat Index</th>\n",
       "      <th>Wind Speed</th>\n",
       "      <th>Wind Gust</th>\n",
       "      <th>Wind Direction</th>\n",
       "      <th>Wind Chill</th>\n",
       "      <th>Precipitation</th>\n",
       "      <th>Precipitation Cover</th>\n",
       "      <th>Snow Depth</th>\n",
       "      <th>Visibility</th>\n",
       "      <th>Cloud Cover</th>\n",
       "      <th>Sea Level Pressure</th>\n",
       "      <th>Weather Type</th>\n",
       "      <th>Latitude</th>\n",
       "      <th>Longitude</th>\n",
       "      <th>Info</th>\n",
       "    </tr>\n",
       "  </thead>\n",
       "  <tbody>\n",
       "    <tr>\n",
       "      <th>count</th>\n",
       "      <td>365.000000</td>\n",
       "      <td>365.000000</td>\n",
       "      <td>365.000000</td>\n",
       "      <td>365.000000</td>\n",
       "      <td>365.000000</td>\n",
       "      <td>57.000000</td>\n",
       "      <td>365.000000</td>\n",
       "      <td>249.000000</td>\n",
       "      <td>365.000000</td>\n",
       "      <td>208.000000</td>\n",
       "      <td>365.000000</td>\n",
       "      <td>365.000000</td>\n",
       "      <td>0.0</td>\n",
       "      <td>365.000000</td>\n",
       "      <td>365.000000</td>\n",
       "      <td>6.000000</td>\n",
       "      <td>0.0</td>\n",
       "      <td>3.650000e+02</td>\n",
       "      <td>3.650000e+02</td>\n",
       "      <td>0.0</td>\n",
       "    </tr>\n",
       "    <tr>\n",
       "      <th>mean</th>\n",
       "      <td>40.788219</td>\n",
       "      <td>58.331507</td>\n",
       "      <td>49.701918</td>\n",
       "      <td>41.062192</td>\n",
       "      <td>74.177123</td>\n",
       "      <td>87.029825</td>\n",
       "      <td>13.531233</td>\n",
       "      <td>23.780723</td>\n",
       "      <td>157.110712</td>\n",
       "      <td>22.054327</td>\n",
       "      <td>0.084959</td>\n",
       "      <td>5.735753</td>\n",
       "      <td>NaN</td>\n",
       "      <td>8.751233</td>\n",
       "      <td>46.649315</td>\n",
       "      <td>1016.583333</td>\n",
       "      <td>NaN</td>\n",
       "      <td>4.191610e+01</td>\n",
       "      <td>-8.339790e+01</td>\n",
       "      <td>NaN</td>\n",
       "    </tr>\n",
       "    <tr>\n",
       "      <th>std</th>\n",
       "      <td>19.670714</td>\n",
       "      <td>20.815963</td>\n",
       "      <td>19.758043</td>\n",
       "      <td>19.633209</td>\n",
       "      <td>10.211498</td>\n",
       "      <td>4.898504</td>\n",
       "      <td>5.226471</td>\n",
       "      <td>6.606713</td>\n",
       "      <td>72.399144</td>\n",
       "      <td>18.222553</td>\n",
       "      <td>0.236582</td>\n",
       "      <td>12.500097</td>\n",
       "      <td>NaN</td>\n",
       "      <td>1.641338</td>\n",
       "      <td>31.182794</td>\n",
       "      <td>5.237334</td>\n",
       "      <td>NaN</td>\n",
       "      <td>2.561465e-13</td>\n",
       "      <td>5.692145e-14</td>\n",
       "      <td>NaN</td>\n",
       "    </tr>\n",
       "    <tr>\n",
       "      <th>min</th>\n",
       "      <td>-14.700000</td>\n",
       "      <td>4.100000</td>\n",
       "      <td>-2.400000</td>\n",
       "      <td>-14.500000</td>\n",
       "      <td>35.710000</td>\n",
       "      <td>80.500000</td>\n",
       "      <td>4.500000</td>\n",
       "      <td>10.300000</td>\n",
       "      <td>22.040000</td>\n",
       "      <td>-29.100000</td>\n",
       "      <td>0.000000</td>\n",
       "      <td>0.000000</td>\n",
       "      <td>NaN</td>\n",
       "      <td>0.800000</td>\n",
       "      <td>0.000000</td>\n",
       "      <td>1010.500000</td>\n",
       "      <td>NaN</td>\n",
       "      <td>4.191610e+01</td>\n",
       "      <td>-8.339790e+01</td>\n",
       "      <td>NaN</td>\n",
       "    </tr>\n",
       "    <tr>\n",
       "      <th>25%</th>\n",
       "      <td>28.300000</td>\n",
       "      <td>43.200000</td>\n",
       "      <td>35.700000</td>\n",
       "      <td>28.400000</td>\n",
       "      <td>68.090000</td>\n",
       "      <td>83.400000</td>\n",
       "      <td>9.300000</td>\n",
       "      <td>18.300000</td>\n",
       "      <td>89.920000</td>\n",
       "      <td>9.850000</td>\n",
       "      <td>0.000000</td>\n",
       "      <td>0.000000</td>\n",
       "      <td>NaN</td>\n",
       "      <td>8.100000</td>\n",
       "      <td>21.100000</td>\n",
       "      <td>1012.875000</td>\n",
       "      <td>NaN</td>\n",
       "      <td>4.191610e+01</td>\n",
       "      <td>-8.339790e+01</td>\n",
       "      <td>NaN</td>\n",
       "    </tr>\n",
       "    <tr>\n",
       "      <th>50%</th>\n",
       "      <td>43.600000</td>\n",
       "      <td>61.200000</td>\n",
       "      <td>52.100000</td>\n",
       "      <td>42.500000</td>\n",
       "      <td>75.280000</td>\n",
       "      <td>85.500000</td>\n",
       "      <td>12.700000</td>\n",
       "      <td>23.000000</td>\n",
       "      <td>153.420000</td>\n",
       "      <td>26.350000</td>\n",
       "      <td>0.000000</td>\n",
       "      <td>0.000000</td>\n",
       "      <td>NaN</td>\n",
       "      <td>9.600000</td>\n",
       "      <td>43.900000</td>\n",
       "      <td>1015.650000</td>\n",
       "      <td>NaN</td>\n",
       "      <td>4.191610e+01</td>\n",
       "      <td>-8.339790e+01</td>\n",
       "      <td>NaN</td>\n",
       "    </tr>\n",
       "    <tr>\n",
       "      <th>75%</th>\n",
       "      <td>57.100000</td>\n",
       "      <td>75.300000</td>\n",
       "      <td>66.800000</td>\n",
       "      <td>57.800000</td>\n",
       "      <td>81.070000</td>\n",
       "      <td>90.800000</td>\n",
       "      <td>16.700000</td>\n",
       "      <td>27.600000</td>\n",
       "      <td>220.210000</td>\n",
       "      <td>36.225000</td>\n",
       "      <td>0.020000</td>\n",
       "      <td>4.170000</td>\n",
       "      <td>NaN</td>\n",
       "      <td>9.900000</td>\n",
       "      <td>73.300000</td>\n",
       "      <td>1020.225000</td>\n",
       "      <td>NaN</td>\n",
       "      <td>4.191610e+01</td>\n",
       "      <td>-8.339790e+01</td>\n",
       "      <td>NaN</td>\n",
       "    </tr>\n",
       "    <tr>\n",
       "      <th>max</th>\n",
       "      <td>70.700000</td>\n",
       "      <td>90.900000</td>\n",
       "      <td>78.500000</td>\n",
       "      <td>70.700000</td>\n",
       "      <td>96.870000</td>\n",
       "      <td>98.600000</td>\n",
       "      <td>33.500000</td>\n",
       "      <td>52.600000</td>\n",
       "      <td>306.210000</td>\n",
       "      <td>48.600000</td>\n",
       "      <td>1.910000</td>\n",
       "      <td>91.670000</td>\n",
       "      <td>NaN</td>\n",
       "      <td>9.900000</td>\n",
       "      <td>100.000000</td>\n",
       "      <td>1024.000000</td>\n",
       "      <td>NaN</td>\n",
       "      <td>4.191610e+01</td>\n",
       "      <td>-8.339790e+01</td>\n",
       "      <td>NaN</td>\n",
       "    </tr>\n",
       "  </tbody>\n",
       "</table>\n",
       "</div>"
      ],
      "text/plain": [
       "       Minimum Temperature  Maximum Temperature  Temperature   Dew Point  \\\n",
       "count           365.000000           365.000000   365.000000  365.000000   \n",
       "mean             40.788219            58.331507    49.701918   41.062192   \n",
       "std              19.670714            20.815963    19.758043   19.633209   \n",
       "min             -14.700000             4.100000    -2.400000  -14.500000   \n",
       "25%              28.300000            43.200000    35.700000   28.400000   \n",
       "50%              43.600000            61.200000    52.100000   42.500000   \n",
       "75%              57.100000            75.300000    66.800000   57.800000   \n",
       "max              70.700000            90.900000    78.500000   70.700000   \n",
       "\n",
       "       Relative Humidity  Heat Index  Wind Speed   Wind Gust  Wind Direction  \\\n",
       "count         365.000000   57.000000  365.000000  249.000000      365.000000   \n",
       "mean           74.177123   87.029825   13.531233   23.780723      157.110712   \n",
       "std            10.211498    4.898504    5.226471    6.606713       72.399144   \n",
       "min            35.710000   80.500000    4.500000   10.300000       22.040000   \n",
       "25%            68.090000   83.400000    9.300000   18.300000       89.920000   \n",
       "50%            75.280000   85.500000   12.700000   23.000000      153.420000   \n",
       "75%            81.070000   90.800000   16.700000   27.600000      220.210000   \n",
       "max            96.870000   98.600000   33.500000   52.600000      306.210000   \n",
       "\n",
       "       Wind Chill  Precipitation  Precipitation Cover  Snow Depth  Visibility  \\\n",
       "count  208.000000     365.000000           365.000000         0.0  365.000000   \n",
       "mean    22.054327       0.084959             5.735753         NaN    8.751233   \n",
       "std     18.222553       0.236582            12.500097         NaN    1.641338   \n",
       "min    -29.100000       0.000000             0.000000         NaN    0.800000   \n",
       "25%      9.850000       0.000000             0.000000         NaN    8.100000   \n",
       "50%     26.350000       0.000000             0.000000         NaN    9.600000   \n",
       "75%     36.225000       0.020000             4.170000         NaN    9.900000   \n",
       "max     48.600000       1.910000            91.670000         NaN    9.900000   \n",
       "\n",
       "       Cloud Cover  Sea Level Pressure  Weather Type      Latitude  \\\n",
       "count   365.000000            6.000000           0.0  3.650000e+02   \n",
       "mean     46.649315         1016.583333           NaN  4.191610e+01   \n",
       "std      31.182794            5.237334           NaN  2.561465e-13   \n",
       "min       0.000000         1010.500000           NaN  4.191610e+01   \n",
       "25%      21.100000         1012.875000           NaN  4.191610e+01   \n",
       "50%      43.900000         1015.650000           NaN  4.191610e+01   \n",
       "75%      73.300000         1020.225000           NaN  4.191610e+01   \n",
       "max     100.000000         1024.000000           NaN  4.191610e+01   \n",
       "\n",
       "          Longitude  Info  \n",
       "count  3.650000e+02   0.0  \n",
       "mean  -8.339790e+01   NaN  \n",
       "std    5.692145e-14   NaN  \n",
       "min   -8.339790e+01   NaN  \n",
       "25%   -8.339790e+01   NaN  \n",
       "50%   -8.339790e+01   NaN  \n",
       "75%   -8.339790e+01   NaN  \n",
       "max   -8.339790e+01   NaN  "
      ]
     },
     "execution_count": 15,
     "metadata": {},
     "output_type": "execute_result"
    }
   ],
   "source": [
    "# print the stats of the numerical columns in the dataframe\n",
    "df_api_weather.describe()"
   ]
  },
  {
   "cell_type": "code",
   "execution_count": 16,
   "metadata": {},
   "outputs": [
    {
     "name": "stdout",
     "output_type": "stream",
     "text": [
      "              Address   Date time           Resolved Address  \\\n",
      "count             365         365                        365   \n",
      "unique              1         365                          1   \n",
      "top     Monroe,MI,USA  08/26/2015  Monroe, MI, United States   \n",
      "freq              365           1                        365   \n",
      "\n",
      "                             Name        Conditions  \n",
      "count                         365               365  \n",
      "unique                          1                 6  \n",
      "top     Monroe, MI, United States  Partially cloudy  \n",
      "freq                          365               114  \n"
     ]
    }
   ],
   "source": [
    "# print the stats of the  categorical columns in the dataframe\n",
    "print(df_api_weather.describe(include=['O']))"
   ]
  },
  {
   "cell_type": "code",
   "execution_count": 17,
   "metadata": {},
   "outputs": [
    {
     "data": {
      "text/plain": [
       "Address                  0\n",
       "Date time                0\n",
       "Minimum Temperature      0\n",
       "Maximum Temperature      0\n",
       "Temperature              0\n",
       "Dew Point                0\n",
       "Relative Humidity        0\n",
       "Heat Index             308\n",
       "Wind Speed               0\n",
       "Wind Gust              116\n",
       "Wind Direction           0\n",
       "Wind Chill             157\n",
       "Precipitation            0\n",
       "Precipitation Cover      0\n",
       "Snow Depth             365\n",
       "Visibility               0\n",
       "Cloud Cover              0\n",
       "Sea Level Pressure     359\n",
       "Weather Type           365\n",
       "Latitude                 0\n",
       "Longitude                0\n",
       "Resolved Address         0\n",
       "Name                     0\n",
       "Info                   365\n",
       "Conditions               0\n",
       "dtype: int64"
      ]
     },
     "execution_count": 17,
     "metadata": {},
     "output_type": "execute_result"
    }
   ],
   "source": [
    "# Checking the count of null values in each column\n",
    "df_api_weather.isnull().sum()"
   ]
  },
  {
   "cell_type": "code",
   "execution_count": 18,
   "metadata": {},
   "outputs": [
    {
     "data": {
      "text/plain": [
       "(365, 6)"
      ]
     },
     "execution_count": 18,
     "metadata": {},
     "output_type": "execute_result"
    }
   ],
   "source": [
    "# Selecting the few set of variables for the analysis\n",
    "df_api = df_api_weather[['Address','Date time','Minimum Temperature','Maximum Temperature','Temperature','Wind Speed']]\n",
    "df_api.shape\n"
   ]
  },
  {
   "cell_type": "code",
   "execution_count": 19,
   "metadata": {},
   "outputs": [
    {
     "data": {
      "text/html": [
       "<div>\n",
       "<style scoped>\n",
       "    .dataframe tbody tr th:only-of-type {\n",
       "        vertical-align: middle;\n",
       "    }\n",
       "\n",
       "    .dataframe tbody tr th {\n",
       "        vertical-align: top;\n",
       "    }\n",
       "\n",
       "    .dataframe thead th {\n",
       "        text-align: right;\n",
       "    }\n",
       "</style>\n",
       "<table border=\"1\" class=\"dataframe\">\n",
       "  <thead>\n",
       "    <tr style=\"text-align: right;\">\n",
       "      <th></th>\n",
       "      <th>Address</th>\n",
       "      <th>Date time</th>\n",
       "      <th>Minimum Temperature</th>\n",
       "      <th>Maximum Temperature</th>\n",
       "      <th>Temperature</th>\n",
       "      <th>Wind Speed</th>\n",
       "    </tr>\n",
       "  </thead>\n",
       "  <tbody>\n",
       "    <tr>\n",
       "      <th>0</th>\n",
       "      <td>Monroe,MI,USA</td>\n",
       "      <td>01/01/2015</td>\n",
       "      <td>17.5</td>\n",
       "      <td>30.2</td>\n",
       "      <td>23.8</td>\n",
       "      <td>21.8</td>\n",
       "    </tr>\n",
       "    <tr>\n",
       "      <th>1</th>\n",
       "      <td>Monroe,MI,USA</td>\n",
       "      <td>01/02/2015</td>\n",
       "      <td>26.6</td>\n",
       "      <td>35.5</td>\n",
       "      <td>29.3</td>\n",
       "      <td>11.3</td>\n",
       "    </tr>\n",
       "    <tr>\n",
       "      <th>2</th>\n",
       "      <td>Monroe,MI,USA</td>\n",
       "      <td>01/03/2015</td>\n",
       "      <td>26.6</td>\n",
       "      <td>35.5</td>\n",
       "      <td>32.7</td>\n",
       "      <td>9.1</td>\n",
       "    </tr>\n",
       "    <tr>\n",
       "      <th>3</th>\n",
       "      <td>Monroe,MI,USA</td>\n",
       "      <td>01/04/2015</td>\n",
       "      <td>21.2</td>\n",
       "      <td>37.3</td>\n",
       "      <td>31.8</td>\n",
       "      <td>22.9</td>\n",
       "    </tr>\n",
       "    <tr>\n",
       "      <th>4</th>\n",
       "      <td>Monroe,MI,USA</td>\n",
       "      <td>01/05/2015</td>\n",
       "      <td>8.5</td>\n",
       "      <td>19.4</td>\n",
       "      <td>11.3</td>\n",
       "      <td>27.5</td>\n",
       "    </tr>\n",
       "  </tbody>\n",
       "</table>\n",
       "</div>"
      ],
      "text/plain": [
       "         Address   Date time  Minimum Temperature  Maximum Temperature  \\\n",
       "0  Monroe,MI,USA  01/01/2015                 17.5                 30.2   \n",
       "1  Monroe,MI,USA  01/02/2015                 26.6                 35.5   \n",
       "2  Monroe,MI,USA  01/03/2015                 26.6                 35.5   \n",
       "3  Monroe,MI,USA  01/04/2015                 21.2                 37.3   \n",
       "4  Monroe,MI,USA  01/05/2015                  8.5                 19.4   \n",
       "\n",
       "   Temperature  Wind Speed  \n",
       "0         23.8        21.8  \n",
       "1         29.3        11.3  \n",
       "2         32.7         9.1  \n",
       "3         31.8        22.9  \n",
       "4         11.3        27.5  "
      ]
     },
     "execution_count": 19,
     "metadata": {},
     "output_type": "execute_result"
    }
   ],
   "source": [
    "# print the first few lines of the dataframe\n",
    "df_api.head()"
   ]
  },
  {
   "cell_type": "code",
   "execution_count": 20,
   "metadata": {},
   "outputs": [
    {
     "data": {
      "image/png": "[encoded data removed]",
      "text/plain": [
       "<Figure size 576x432 with 1 Axes>"
      ]
     },
     "metadata": {},
     "output_type": "display_data"
    }
   ],
   "source": [
    "# Plot a histogram on the Temperature\n",
    "ax=df_api['Temperature'].plot(kind='hist', bins=50, fontsize=14, figsize=(8,6))\n",
    "ax.set_title('Temperature Histogram\\n', fontsize=20)\n",
    "ax.set_ylabel('Count', fontsize=18)\n",
    "ax.set_xlabel('Temperature', fontsize=18);\n",
    "plt.show()\n",
    "    \n"
   ]
  },
  {
   "cell_type": "code",
   "execution_count": 21,
   "metadata": {},
   "outputs": [
    {
     "data": {
      "text/plain": [
       "Address                 object\n",
       "Date time               object\n",
       "Minimum Temperature    float64\n",
       "Maximum Temperature    float64\n",
       "Temperature            float64\n",
       "Wind Speed             float64\n",
       "dtype: object"
      ]
     },
     "execution_count": 21,
     "metadata": {},
     "output_type": "execute_result"
    }
   ],
   "source": [
    "df_api.dtypes"
   ]
  },
  {
   "cell_type": "code",
   "execution_count": 23,
   "metadata": {},
   "outputs": [],
   "source": [
    "import sqlite3   # import sqlite3 package\n",
    "conn = sqlite3.connect('DSC540_monroe_county.db')  # connect to database\n",
    "c = conn.cursor()    # create an instance\n",
    "\n"
   ]
  },
  {
   "cell_type": "code",
   "execution_count": 24,
   "metadata": {},
   "outputs": [],
   "source": [
    "# Create table - API\n",
    "c.execute('''CREATE TABLE API(\n",
    "[Address] TEXT,\n",
    "[Date time] TEXT,\n",
    "[Minimum Temperature] FLOAT,\n",
    "[Maximum Temperature] FLOAT,\n",
    "[Temperature] FLOAT,\n",
    "[Wind Speed]  FLOAT\n",
    ")''')   # Create table syntax\n",
    "conn.commit()  # Commit the changes"
   ]
  },
  {
   "cell_type": "code",
   "execution_count": 25,
   "metadata": {},
   "outputs": [
    {
     "name": "stderr",
     "output_type": "stream",
     "text": [
      "C:\\ProgramData\\Anaconda3\\lib\\site-packages\\pandas\\core\\generic.py:2127: UserWarning: The spaces in these column names will not be changed. In pandas versions < 0.14, spaces were converted to underscores.\n",
      "  dtype=dtype)\n"
     ]
    }
   ],
   "source": [
    "import pandas as pd   # Import the package pandas\n",
    "# load data from Dataframe to Table.\n",
    "df_api.to_sql('API', conn, if_exists='append', index=False)"
   ]
  },
  {
   "cell_type": "code",
   "execution_count": null,
   "metadata": {},
   "outputs": [],
   "source": []
  }
 ],
 "metadata": {
  "kernelspec": {
   "display_name": "Python 3",
   "language": "python",
   "name": "python3"
  },
  "language_info": {
   "codemirror_mode": {
    "name": "ipython",
    "version": 3
   },
   "file_extension": ".py",
   "mimetype": "text/x-python",
   "name": "python",
   "nbconvert_exporter": "python",
   "pygments_lexer": "ipython3",
   "version": "3.6.5"
  }
 },
 "nbformat": 4,
 "nbformat_minor": 2
}
