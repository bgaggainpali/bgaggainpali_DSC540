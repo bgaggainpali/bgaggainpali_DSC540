{
 "cells": [
  {
   "cell_type": "markdown",
   "metadata": {},
   "source": [
    "# Project Milestone 5"
   ]
  },
  {
   "cell_type": "code",
   "execution_count": 1,
   "metadata": {},
   "outputs": [],
   "source": [
    "#Name: Bhargava Gaggainpali\n",
    "#Course: DSC 540 Data Preparation\n",
    "#Title: Monroe County Crash Data\n",
    "\n",
    "#Project Milestone 5 - Merging the Data and Storing in a Database/Visualizing Data"
   ]
  },
  {
   "cell_type": "code",
   "execution_count": 2,
   "metadata": {},
   "outputs": [
    {
     "data": {
      "text/plain": [
       "\"\\n1. At the end of the File 'Project Milestone2_DSC540'\\n   Table 'MONROE_COUNTY' is created to save the csv file_data which is 'monroe_county_crash_data2003_to_2015.csv'.\\n\\n2. At the end of the File 'Project Milestone3_DSC540'\\n   Table 'HOLIDAYS' is created to save the WEBSITE_data which is 'List of holidays'.\\n\\n3. At the end of the File 'Project Milestone4_DSC540'\\n   Table 'API' is created to save the API_data which is 'Weather data'.\\n\""
      ]
     },
     "execution_count": 2,
     "metadata": {},
     "output_type": "execute_result"
    }
   ],
   "source": [
    "'''\n",
    "1. At the end of the File 'Project Milestone2_DSC540'\n",
    "   Table 'MONROE_COUNTY' is created to save the csv file_data which is 'monroe_county_crash_data2003_to_2015.csv'.\n",
    "\n",
    "2. At the end of the File 'Project Milestone3_DSC540'\n",
    "   Table 'HOLIDAYS' is created to save the WEBSITE_data which is 'List of holidays'.\n",
    "\n",
    "3. At the end of the File 'Project Milestone4_DSC540'\n",
    "   Table 'API' is created to save the API_data which is 'Weather data'.\n",
    "'''"
   ]
  },
  {
   "cell_type": "code",
   "execution_count": 3,
   "metadata": {},
   "outputs": [],
   "source": [
    "import pandas as pd\n",
    "import numpy as np\n",
    "import matplotlib.pyplot as plt\n",
    "import seaborn as sns"
   ]
  },
  {
   "cell_type": "code",
   "execution_count": 4,
   "metadata": {},
   "outputs": [],
   "source": [
    "# Create new SQL Lite database\n",
    "import sqlite3   # import sqlite3 package\n",
    "conn = sqlite3.connect('DSC540_monroe_county.db')  # create database\n",
    "c = conn.cursor()    # create an instance"
   ]
  },
  {
   "cell_type": "markdown",
   "metadata": {},
   "source": [
    "# CSV File Data\n",
    "At the end of the File 'Project Milestone2_DSC540'\n",
    "Table 'MONROE_COUNTY' is created to save the csv file_data which is 'monroe_county_crash_data2003_to_2015.csv'."
   ]
  },
  {
   "cell_type": "code",
   "execution_count": 5,
   "metadata": {},
   "outputs": [
    {
     "name": "stdout",
     "output_type": "stream",
     "text": [
      "Columns in the Table : MONROE_COUNTY\n",
      "\n",
      "(0, 'Sequence_Number', 'INTEGER', 0, None, 0)\n",
      "(1, 'Crash_Year', 'INTEGER', 0, None, 0)\n",
      "(2, 'Crash_Month', 'INTEGER', 0, None, 0)\n",
      "(3, 'Crash_Day', 'INTEGER', 0, None, 0)\n",
      "(4, 'Weekend_Weekday', 'TEXT', 0, None, 0)\n",
      "(5, 'Time_Hour', 'FLOAT', 0, None, 0)\n",
      "(6, 'Collision_Type', 'TEXT', 0, None, 0)\n",
      "(7, 'Injury_Type', 'TEXT', 0, None, 0)\n",
      "(8, 'Primary_Crash_Reason', 'TEXT', 0, None, 0)\n",
      "(9, 'Reported_Location', 'TEXT', 0, None, 0)\n",
      "(10, 'Latitude_Geographic_Location', 'FLOAT', 0, None, 0)\n",
      "(11, 'Longitude_Geographic_Location', 'FLOAT', 0, None, 0)\n",
      "(12, 'date_calc', 'DATATIME', 0, None, 0)\n",
      "\n",
      "Data in the Table : MONROE_COUNTY\n",
      "\n",
      "(902363382, 2015, 1, 5, 'Weekday', 0.0, '2-Car', 'No injury/unknown', 'OTHER (DRIVER) - EXPLAIN IN NARRATIVE', '1ST & FESS', 39.15920668, -86.52587356, '2015-01-05 00:00:00')\n",
      "(902364268, 2015, 1, 6, 'Weekday', 1500.0, '2-Car', 'No injury/unknown', 'FOLLOWING TOO CLOSELY', '2ND & COLLEGE', 39.16144, -86.534848, '2015-01-06 00:00:00')\n",
      "(902364412, 2015, 1, 6, 'Weekend', 2300.0, '2-Car', 'Non-incapacitating', 'DISREGARD SIGNAL/REG SIGN', 'BASSWOOD & BLOOMFIELD', 39.14978027, -86.56889006, '2015-01-06 00:00:00')\n",
      "(902364551, 2015, 1, 7, 'Weekend', 900.0, '2-Car', 'Non-incapacitating', 'FAILURE TO YIELD RIGHT OF WAY', 'GATES & JACOBS', 39.165655, -86.57595635, '2015-01-07 00:00:00')\n",
      "(902364615, 2015, 1, 7, 'Weekend', 1100.0, '2-Car', 'No injury/unknown', 'FAILURE TO YIELD RIGHT OF WAY', 'W 3RD', 39.164848, -86.57962482, '2015-01-07 00:00:00')\n"
     ]
    }
   ],
   "source": [
    "# Print the Columns in \"MONROE_COUNTY\" table.\n",
    "MONROE_COUNTY_cols = c.execute(\"PRAGMA table_info(MONROE_COUNTY)\")\n",
    "print(\"Columns in the Table : MONROE_COUNTY\\n\")\n",
    "for col in MONROE_COUNTY_cols:\n",
    "    print(col)\n",
    "\n",
    "# Print the first 5 rows in the \"MONROE_COUNTY\" table.\n",
    "MONROE_COUNTY_rows = c.execute(\"SELECT * FROM MONROE_COUNTY LIMIT 5\")\n",
    "print(\"\\nData in the Table : MONROE_COUNTY\\n\")\n",
    "for row in MONROE_COUNTY_rows:\n",
    "    print(row)"
   ]
  },
  {
   "cell_type": "markdown",
   "metadata": {},
   "source": [
    "# API Data\n",
    "At the end of the File 'Project Milestone3_DSC540'\n",
    "Table 'HOLIDAYS' is created to save the WEBSITE_data which is 'List of holidays'."
   ]
  },
  {
   "cell_type": "code",
   "execution_count": 6,
   "metadata": {},
   "outputs": [
    {
     "name": "stdout",
     "output_type": "stream",
     "text": [
      "Columns in the Table : API\n",
      "\n",
      "(0, 'Address', 'TEXT', 0, None, 0)\n",
      "(1, 'Date time', 'TEXT', 0, None, 0)\n",
      "(2, 'Minimum Temperature', 'FLOAT', 0, None, 0)\n",
      "(3, 'Maximum Temperature', 'FLOAT', 0, None, 0)\n",
      "(4, 'Temperature', 'FLOAT', 0, None, 0)\n",
      "(5, 'Wind Speed', 'FLOAT', 0, None, 0)\n",
      "\n",
      "Data in the Table : API\n",
      "\n",
      "('Monroe,MI,USA', '01/01/2015', 17.5, 30.2, 23.8, 21.8)\n",
      "('Monroe,MI,USA', '01/02/2015', 26.6, 35.5, 29.3, 11.3)\n",
      "('Monroe,MI,USA', '01/03/2015', 26.6, 35.5, 32.7, 9.1)\n",
      "('Monroe,MI,USA', '01/04/2015', 21.2, 37.3, 31.8, 22.9)\n",
      "('Monroe,MI,USA', '01/05/2015', 8.5, 19.4, 11.3, 27.5)\n"
     ]
    }
   ],
   "source": [
    "# Print the Columns in \"API\" table.\n",
    "API_cols = c.execute(\"PRAGMA table_info(API)\")\n",
    "print(\"Columns in the Table : API\\n\")\n",
    "for col in API_cols:\n",
    "    print(col)\n",
    "\n",
    "# Print the first 5 rows in the \"API\" table.\n",
    "API_rows = c.execute(\"SELECT * FROM API LIMIT 5\")\n",
    "print(\"\\nData in the Table : API\\n\")\n",
    "for row in API_rows:\n",
    "    print(row)"
   ]
  },
  {
   "cell_type": "markdown",
   "metadata": {},
   "source": [
    "# WEBSITE Data\n",
    "At the end of the File 'Project Milestone4_DSC540'\n",
    "Table 'API' is created to save the API_data which is 'Weather data'."
   ]
  },
  {
   "cell_type": "code",
   "execution_count": 7,
   "metadata": {},
   "outputs": [
    {
     "name": "stdout",
     "output_type": "stream",
     "text": [
      "Columns in the Table : HOLIDAYS\n",
      "\n",
      "(0, 'Date', 'TEXT', 0, None, 0)\n",
      "(1, 'Holiday', 'TEXT', 0, None, 0)\n",
      "\n",
      "Data in the Table : HOLIDAYS\n",
      "\n",
      "('2015-01-01 00:00:00', 'New Year’s Day')\n",
      "('2015-01-19 00:00:00', 'Birthday of Martin Luther King, Jr.')\n",
      "('2015-02-16 00:00:00', 'Washington’s Birthday')\n",
      "('2015-05-25 00:00:00', 'Memorial Day')\n",
      "('2015-07-03 00:00:00', 'Independence Day')\n"
     ]
    }
   ],
   "source": [
    "# Print the Columns in \"HOLIDAYS\" table.\n",
    "HOLIDAYS_cols = c.execute(\"PRAGMA table_info(HOLIDAYS)\")\n",
    "print(\"Columns in the Table : HOLIDAYS\\n\")\n",
    "for col in HOLIDAYS_cols:\n",
    "    print(col)\n",
    "\n",
    "# Print the first 5 rows in the \"HOLIDAYS\" table.\n",
    "HOLIDAYS_rows = c.execute(\"SELECT * FROM HOLIDAYS LIMIT 5\")\n",
    "print(\"\\nData in the Table : HOLIDAYS\\n\")\n",
    "for row in HOLIDAYS_rows:\n",
    "    print(row)"
   ]
  },
  {
   "cell_type": "markdown",
   "metadata": {},
   "source": [
    "# STATS based on the CSV file data"
   ]
  },
  {
   "cell_type": "code",
   "execution_count": 8,
   "metadata": {},
   "outputs": [
    {
     "name": "stdout",
     "output_type": "stream",
     "text": [
      "('2015-09-03', 100)\n"
     ]
    }
   ],
   "source": [
    "#Most Crashes happend in 2015 on a single day\n",
    "c.execute('''SELECT date(date_calc),count(*) FROM MONROE_COUNTY where Crash_Year = 2015 group by date(date_calc) order by count(*) desc ''')\n",
    "result = c.fetchone();\n",
    "print(result)"
   ]
  },
  {
   "cell_type": "code",
   "execution_count": 9,
   "metadata": {},
   "outputs": [
    {
     "name": "stdout",
     "output_type": "stream",
     "text": [
      "('2015-06-01', 16)\n"
     ]
    }
   ],
   "source": [
    "#Least Crashes happend in 2015 on a single day\n",
    "c.execute('''SELECT date(date_calc),count(*) FROM MONROE_COUNTY where Crash_Year = 2015 group by date(date_calc) order by count(*) asc ''')\n",
    "result = c.fetchone();\n",
    "print(result)"
   ]
  },
  {
   "cell_type": "code",
   "execution_count": 10,
   "metadata": {},
   "outputs": [
    {
     "name": "stdout",
     "output_type": "stream",
     "text": [
      "(11,)\n"
     ]
    }
   ],
   "source": [
    "#Average Crimes Per Day in 2015\n",
    "c.execute('''SELECT count(*)/365 FROM MONROE_COUNTY where Crash_Year = 2015''')\n",
    "result = c.fetchone();\n",
    "print(result)\n"
   ]
  },
  {
   "cell_type": "code",
   "execution_count": 11,
   "metadata": {},
   "outputs": [
    {
     "name": "stdout",
     "output_type": "stream",
     "text": [
      "    number_of_crashes                      Primary_Crash_Reason\n",
      "0                 810             FAILURE TO YIELD RIGHT OF WAY\n",
      "1                 774                     FOLLOWING TOO CLOSELY\n",
      "2                 496                            UNSAFE BACKING\n",
      "3                 338                        RAN OFF ROAD RIGHT\n",
      "4                 299     OTHER (DRIVER) - EXPLAIN IN NARRATIVE\n",
      "5                 177                  ANIMAL/OBJECT IN ROADWAY\n",
      "6                 174     SPEED TOO FAST FOR WEATHER CONDITIONS\n",
      "7                 169                          IMPROPER TURNING\n",
      "8                 162                 DISREGARD SIGNAL/REG SIGN\n",
      "9                 155                      UNSAFE LANE MOVEMENT\n",
      "10                 95                              UNSAFE SPEED\n",
      "11                 91                            LEFT OF CENTER\n",
      "12                 86  DRIVER DISTRACTED - EXPLAIN IN NARRATIVE\n",
      "13                 85                                      None\n",
      "14                 75                       IMPROPER LANE USAGE\n",
      "15                 45               OVERCORRECTING/OVERSTEERING\n",
      "16                 43                          IMPROPER PASSING\n",
      "17                 40                 ROADWAY SURFACE CONDITION\n",
      "18                 38    OTHER (VEHICLE) - EXPLAIN IN NARRATIVE\n",
      "19                 29                BRAKE FAILURE OR DEFECTIVE\n",
      "20                 22   OTHER (ENVIRONMENTAL) - EXPLAIN IN NARR\n",
      "21                 22                         PEDESTRIAN ACTION\n",
      "22                 20                 DRIVER ASLEEP OR FATIGUED\n",
      "23                 15                            DRIVER ILLNESS\n",
      "24                  9                      WRONG WAY ON ONE WAY\n",
      "25                  7                 TIRE FAILURE OR DEFECTIVE\n",
      "26                  7                           VIEW OBSTRUCTED\n",
      "27                  6          ACCELERATOR FAILURE OR DEFECTIVE\n",
      "28                  4                          CELL PHONE USAGE\n",
      "29                  4               ENGINE FAILURE OR DEFECTIVE\n",
      "30                  3                       INSECURE/LEAKY LOAD\n",
      "31                  3                    OBSTRUCTION NOT MARKED\n",
      "32                  2             HEADLIGHT DEFECTIVE OR NOT ON\n",
      "33                  2                  OVERSIZE/OVERWEIGHT LOAD\n",
      "34                  1                     HOLES/RUTS IN SURFACE\n",
      "35                  1                    OTHER LIGHTS DEFECTIVE\n",
      "36                  1                   OTHER TELEMATICS IN USE\n",
      "37                  1                          STEERING FAILURE\n",
      "38                  1                         TOW HITCH FAILURE\n",
      "39                  1  TRAFFIC CONTROL INOPERATIVE/MISSING/OBSC\n"
     ]
    }
   ],
   "source": [
    "# Number of Crash Incidents by Primary_Crash_Reason\n",
    "\n",
    "sql = '''select count(*),Primary_Crash_Reason from MONROE_COUNTY where Crash_Year = 2015 \n",
    "group by Primary_Crash_Reason order by count(*) desc'''\n",
    "\n",
    "c.execute(sql)\n",
    "df = pd.DataFrame(c.fetchall(),columns=['number_of_crashes','Primary_Crash_Reason'])\n",
    "print(df)"
   ]
  },
  {
   "cell_type": "code",
   "execution_count": 12,
   "metadata": {},
   "outputs": [
    {
     "data": {
      "text/plain": [
       "<matplotlib.axes._subplots.AxesSubplot at 0x2447f540240>"
      ]
     },
     "execution_count": 12,
     "metadata": {},
     "output_type": "execute_result"
    },
    {
     "data": {
      "image/png": "[encoded data removed]",
      "text/plain": [
       "<Figure size 432x288 with 1 Axes>"
      ]
     },
     "metadata": {},
     "output_type": "display_data"
    }
   ],
   "source": [
    "df_filter =  df[df['number_of_crashes'] > 100]\n",
    "sns.barplot(y=\"Primary_Crash_Reason\", x=\"number_of_crashes\", data=df_filter)"
   ]
  },
  {
   "cell_type": "code",
   "execution_count": 13,
   "metadata": {},
   "outputs": [
    {
     "name": "stdout",
     "output_type": "stream",
     "text": [
      "   number_of_crashes    Collision_Type\n",
      "0               2972             2-Car\n",
      "1                870             1-Car\n",
      "2                232           3+ Cars\n",
      "3                 80               Bus\n",
      "4                 70        Pedestrian\n",
      "5                 53  Moped/Motorcycle\n",
      "6                 36           Cyclist\n"
     ]
    }
   ],
   "source": [
    "# Number of Crash Incidents by Collision_Type\n",
    "\n",
    "sql = '''select count(*),Collision_Type from MONROE_COUNTY where Crash_Year = 2015 \n",
    "group by Collision_Type order by count(*) desc'''\n",
    "\n",
    "c.execute(sql)\n",
    "df = pd.DataFrame(c.fetchall(),columns=['number_of_crashes','Collision_Type'])\n",
    "print(df)"
   ]
  },
  {
   "cell_type": "code",
   "execution_count": 14,
   "metadata": {},
   "outputs": [
    {
     "data": {
      "image/png": "[encoded data removed]",
      "text/plain": [
       "<Figure size 432x288 with 1 Axes>"
      ]
     },
     "metadata": {},
     "output_type": "display_data"
    }
   ],
   "source": [
    "number_of_crashes_list = df['number_of_crashes'].tolist()\n",
    "Collision_Type_list = df['Collision_Type'].tolist()\n",
    "\n",
    "plt.pie(number_of_crashes_list,labels=Collision_Type_list,autopct='%1.1f%%')\n",
    "plt.title('Pieplot showing the major type of collisions')\n",
    "plt.axis('equal')\n",
    "plt.show()\n",
    "\n"
   ]
  },
  {
   "cell_type": "code",
   "execution_count": 15,
   "metadata": {},
   "outputs": [
    {
     "name": "stdout",
     "output_type": "stream",
     "text": [
      "   number_of_crashes         Injury_Type\n",
      "0               3456   No injury/unknown\n",
      "1                458  Non-incapacitating\n",
      "2                391      Incapacitating\n",
      "3                  8               Fatal\n"
     ]
    }
   ],
   "source": [
    "# Number of Crash Incidents by Injury_Type\n",
    "\n",
    "sql = '''select count(*),Injury_Type from MONROE_COUNTY where Crash_Year = 2015 \n",
    "group by Injury_Type order by count(*) desc'''\n",
    "\n",
    "c.execute(sql)\n",
    "df = pd.DataFrame(c.fetchall(),columns=['number_of_crashes','Injury_Type'])\n",
    "print(df)"
   ]
  },
  {
   "cell_type": "code",
   "execution_count": 16,
   "metadata": {},
   "outputs": [
    {
     "name": "stdout",
     "output_type": "stream",
     "text": [
      "[(810, 'FAILURE TO YIELD RIGHT OF WAY'), (774, 'FOLLOWING TOO CLOSELY'), (496, 'UNSAFE BACKING'), (338, 'RAN OFF ROAD RIGHT')]\n"
     ]
    }
   ],
   "source": [
    "#Most occuring Crash Incidents by Primary_Crash_Reason\n",
    "sql = '''select count(*),Primary_Crash_Reason from MONROE_COUNTY where Crash_Year = 2015 \n",
    "group by Primary_Crash_Reason having count(*) > 300 order by count(*) desc'''\n",
    "c.execute(sql)\n",
    "result=c.fetchall();\n",
    "print(result)"
   ]
  },
  {
   "cell_type": "code",
   "execution_count": 17,
   "metadata": {},
   "outputs": [
    {
     "name": "stdout",
     "output_type": "stream",
     "text": [
      "[(2, 'FAILURE TO YIELD RIGHT OF WAY'), (2, 'FOLLOWING TOO CLOSELY'), (1, 'UNSAFE BACKING'), (0, 'RAN OFF ROAD RIGHT')]\n"
     ]
    }
   ],
   "source": [
    "#Average Number of Crash Incidents by Primary_Crash_Reason in a Day \n",
    "sql = '''select count(*)/365,Primary_Crash_Reason from MONROE_COUNTY where Crash_Year = 2015 \n",
    "group by Primary_Crash_Reason having count(*) > 300 order by count(*) desc'''\n",
    "c.execute(sql)\n",
    "result=c.fetchall();\n",
    "print(result)\n"
   ]
  },
  {
   "cell_type": "code",
   "execution_count": 18,
   "metadata": {},
   "outputs": [
    {
     "name": "stdout",
     "output_type": "stream",
     "text": [
      "   Year_Month Month  number_of_crashes\n",
      "0     2015-01    01                329\n",
      "1     2015-02    02                373\n",
      "2     2015-03    03                354\n",
      "3     2015-04    04                344\n",
      "4     2015-05    05                351\n",
      "5     2015-06    06                297\n",
      "6     2015-07    07                298\n",
      "7     2015-08    08                362\n",
      "8     2015-09    09                431\n",
      "9     2015-10    10                435\n",
      "10    2015-11    11                396\n",
      "11    2015-12    12                343\n"
     ]
    }
   ],
   "source": [
    "# Crash Incidents Monthly Summary\n",
    "sql = '''select strftime('%Y-%m',date_calc), strftime('%m',date_calc),count(*)  \n",
    "FROM MONROE_COUNTY where Crash_Year = 2015 \n",
    "group by strftime('%Y-%m',date_calc) order by strftime('%m',date_calc) asc'''\n",
    "\n",
    "c.execute(sql)\n",
    "df = pd.DataFrame(c.fetchall(),columns=['Year_Month','Month','number_of_crashes'])\n",
    "print(df)\n"
   ]
  },
  {
   "cell_type": "code",
   "execution_count": 19,
   "metadata": {},
   "outputs": [
    {
     "data": {
      "text/plain": [
       "<matplotlib.axes._subplots.AxesSubplot at 0x2447f6876d8>"
      ]
     },
     "execution_count": 19,
     "metadata": {},
     "output_type": "execute_result"
    },
    {
     "data": {
      "image/png": "[encoded data removed]",
      "text/plain": [
       "<Figure size 432x288 with 1 Axes>"
      ]
     },
     "metadata": {},
     "output_type": "display_data"
    }
   ],
   "source": [
    "# graph to show the number of crashes when compared to temparature.\n",
    "df_MONTH_CRASHES = df[['Month','number_of_crashes']]\n",
    "df_MONTH_CRASHES.plot.line()"
   ]
  },
  {
   "cell_type": "markdown",
   "metadata": {},
   "source": [
    "# STATS based on CSV file data and API data"
   ]
  },
  {
   "cell_type": "code",
   "execution_count": 20,
   "metadata": {},
   "outputs": [
    {
     "data": {
      "text/plain": [
       "<sqlite3.Cursor at 0x2447e4fc340>"
      ]
     },
     "execution_count": 20,
     "metadata": {},
     "output_type": "execute_result"
    }
   ],
   "source": [
    "#Join table 'MONROE_COUNTY' and 'API'\n",
    "\n",
    "sql = '''select strftime('%Y-%m-%d',date_calc),[Temperature],count(*) as number_of_crashes \n",
    "FROM MONROE_COUNTY \n",
    "inner join API  \n",
    "on strftime('%Y-%m-%d',substr([Date time],7,4)||'-'||substr([Date time],1,2)||'-'||substr([Date time],4,2))= strftime('%Y-%m-%d',date_calc) \n",
    "where Crash_Year = 2015 \n",
    "group by strftime('%Y-%m-%d',date_calc),[Temperature] order by [Temperature] desc'''\n",
    "c.execute(sql)\n"
   ]
  },
  {
   "cell_type": "code",
   "execution_count": 21,
   "metadata": {},
   "outputs": [
    {
     "name": "stdout",
     "output_type": "stream",
     "text": [
      "          date  temp  number_of_crashes\n",
      "0   2015-09-07  78.4                 48\n",
      "1   2015-09-02  77.3                 46\n",
      "2   2015-08-02  76.3                 64\n",
      "3   2015-09-06  75.9                 82\n",
      "4   2015-09-03  75.7                100\n",
      "5   2015-09-01  75.1                 34\n",
      "6   2015-09-04  73.3                 68\n",
      "7   2015-07-06  71.4                 68\n",
      "8   2015-09-05  71.3                 53\n",
      "9   2015-07-07  71.1                 43\n",
      "10  2015-08-01  70.8                 49\n",
      "11  2015-08-03  70.3                 32\n",
      "12  2015-06-07  69.3                 35\n",
      "13  2015-06-05  68.7                 56\n",
      "14  2015-08-04  68.6                 49\n",
      "15  2015-07-05  68.2                 48\n",
      "16  2015-08-06  68.1                 63\n",
      "17  2015-08-05  67.9                 52\n",
      "18  2015-08-07  67.5                 53\n",
      "19  2015-07-04  67.0                 47\n",
      "20  2015-06-04  66.8                 37\n",
      "21  2015-05-04  66.3                 44\n",
      "22  2015-07-01  66.1                 20\n",
      "23  2015-07-02  64.6                 36\n",
      "24  2015-05-03  64.1                 52\n",
      "25  2015-07-03  62.7                 36\n",
      "26  2015-11-05  62.7                 49\n",
      "27  2015-06-06  62.1                 60\n",
      "28  2015-05-07  61.4                 52\n",
      "29  2015-10-07  61.3                 68\n",
      "..         ...   ...                ...\n",
      "54  2015-04-07  42.8                 52\n",
      "55  2015-04-01  42.3                 39\n",
      "56  2015-04-04  38.9                 57\n",
      "57  2015-12-03  38.3                 43\n",
      "58  2015-12-04  35.7                 60\n",
      "59  2015-12-02  34.6                 53\n",
      "60  2015-12-06  33.0                 55\n",
      "61  2015-01-03  32.7                 48\n",
      "62  2015-12-07  32.7                 47\n",
      "63  2015-01-04  31.8                 44\n",
      "64  2015-02-07  31.3                 47\n",
      "65  2015-12-05  31.3                 58\n",
      "66  2015-03-07  30.3                 37\n",
      "67  2015-03-04  29.6                 65\n",
      "68  2015-01-02  29.3                 37\n",
      "69  2015-03-03  28.8                 67\n",
      "70  2015-02-04  27.5                 67\n",
      "71  2015-02-01  24.3                 29\n",
      "72  2015-01-01  23.8                 39\n",
      "73  2015-03-02  22.0                 63\n",
      "74  2015-02-06  19.7                 59\n",
      "75  2015-03-01  18.7                 41\n",
      "76  2015-02-03  16.1                 44\n",
      "77  2015-02-02  13.0                 59\n",
      "78  2015-03-05  13.0                 42\n",
      "79  2015-03-06  13.0                 39\n",
      "80  2015-01-06  12.0                 57\n",
      "81  2015-01-05  11.3                 49\n",
      "82  2015-01-07   8.3                 55\n",
      "83  2015-02-05   7.4                 68\n",
      "\n",
      "[84 rows x 3 columns]\n"
     ]
    }
   ],
   "source": [
    "# loading data into dataframe\n",
    "df_CSV_API = pd.DataFrame(c.fetchall(),columns=['date','temp','number_of_crashes'])\n",
    "print(df_CSV_API)"
   ]
  },
  {
   "cell_type": "code",
   "execution_count": 22,
   "metadata": {},
   "outputs": [
    {
     "name": "stderr",
     "output_type": "stream",
     "text": [
      "C:\\ProgramData\\Anaconda3\\lib\\site-packages\\matplotlib\\axes\\_axes.py:6462: UserWarning: The 'normed' kwarg is deprecated, and has been replaced by the 'density' kwarg.\n",
      "  warnings.warn(\"The 'normed' kwarg is deprecated, and has been \"\n",
      "C:\\ProgramData\\Anaconda3\\lib\\site-packages\\matplotlib\\axes\\_axes.py:6462: UserWarning: The 'normed' kwarg is deprecated, and has been replaced by the 'density' kwarg.\n",
      "  warnings.warn(\"The 'normed' kwarg is deprecated, and has been \"\n"
     ]
    },
    {
     "data": {
      "image/png": "[encoded data removed]",
      "text/plain": [
       "<Figure size 432x432 with 3 Axes>"
      ]
     },
     "metadata": {},
     "output_type": "display_data"
    }
   ],
   "source": [
    "# Graph to show the relation between temperature and number of crashes\n",
    "\n",
    "sns.jointplot(x=\"temp\", y=\"number_of_crashes\",kind='reg', data=df_CSV_API);"
   ]
  },
  {
   "cell_type": "markdown",
   "metadata": {},
   "source": [
    "# STATS based on CSV file data and WEBSITE data"
   ]
  },
  {
   "cell_type": "code",
   "execution_count": 23,
   "metadata": {},
   "outputs": [
    {
     "name": "stdout",
     "output_type": "stream",
     "text": [
      "         date  number_of_crashes           holiday\n",
      "0  2015-09-07                 48         Labor Day\n",
      "1  2015-01-01                 39    New Year’s Day\n",
      "2  2015-07-03                 36  Independence Day\n"
     ]
    }
   ],
   "source": [
    "#Join table 'MONROE_COUNTY' and 'HOLIDAYS'\n",
    "\n",
    "sql = '''select date(date_calc),count(*),holiday from HOLIDAYS hol  \n",
    "join MONROE_COUNTY  \n",
    "on date(date_calc)=date(hol.Date) \n",
    "where Crash_Year = 2015\n",
    "group by date(date_calc),holiday order by count(*) desc'''\n",
    "c.execute(sql)\n",
    "df = pd.DataFrame(c.fetchall(),columns=['date','number_of_crashes','holiday'])\n",
    "df['holiday']= df['holiday'].astype(str)\n",
    "#result=c.fetchall();\n",
    "print(df)"
   ]
  },
  {
   "cell_type": "code",
   "execution_count": 24,
   "metadata": {},
   "outputs": [
    {
     "data": {
      "text/plain": [
       "<matplotlib.axes._subplots.AxesSubplot at 0x2447f67be10>"
      ]
     },
     "execution_count": 24,
     "metadata": {},
     "output_type": "execute_result"
    },
    {
     "data": {
      "image/png": "[encoded data removed]",
      "text/plain": [
       "<Figure size 432x288 with 1 Axes>"
      ]
     },
     "metadata": {},
     "output_type": "display_data"
    }
   ],
   "source": [
    "sns.barplot(y=\"holiday\", x=\"number_of_crashes\", data=df)"
   ]
  },
  {
   "cell_type": "code",
   "execution_count": null,
   "metadata": {},
   "outputs": [],
   "source": []
  },
  {
   "cell_type": "code",
   "execution_count": null,
   "metadata": {},
   "outputs": [],
   "source": []
  }
 ],
 "metadata": {
  "kernelspec": {
   "display_name": "Python 3",
   "language": "python",
   "name": "python3"
  },
  "language_info": {
   "codemirror_mode": {
    "name": "ipython",
    "version": 3
   },
   "file_extension": ".py",
   "mimetype": "text/x-python",
   "name": "python",
   "nbconvert_exporter": "python",
   "pygments_lexer": "ipython3",
   "version": "3.6.5"
  }
 },
 "nbformat": 4,
 "nbformat_minor": 2
}
